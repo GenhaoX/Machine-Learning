{
 "cells": [
  {
   "cell_type": "code",
   "execution_count": 1,
   "id": "ece3d47a-5c9c-4991-a65f-05d274f7462b",
   "metadata": {},
   "outputs": [],
   "source": [
    "import numpy as np\n",
    "import pandas as pd\n",
    "import sklearn\n",
    "import matplotlib as mlp\n",
    "import matplotlib.pyplot as plt\n",
    "import seaborn as sns\n",
    "import time\n",
    "import re, pip, conda"
   ]
  },
  {
   "cell_type": "code",
   "execution_count": null,
   "id": "994732af-b741-4370-9824-ad29693e1cc4",
   "metadata": {},
   "outputs": [],
   "source": [
    "#pip install --upgrade scikit-learn\n",
    "#conda update scikit-learn"
   ]
  },
  {
   "cell_type": "markdown",
   "id": "81ab201e-66cb-450c-8194-7d442cbafd0e",
   "metadata": {
    "tags": []
   },
   "source": [
    "# 二 贝叶斯优化的实现"
   ]
  },
  {
   "cell_type": "markdown",
   "id": "5d1f6b4c-17d4-45cf-8bcb-17778038fb26",
   "metadata": {},
   "source": [
    "贝叶斯优化是当今黑盒函数估计领域最为先进和经典的方法，在同一套序贯模型下使用不同的代理模型以及采集函数、还可以发展出更多更先进的贝叶斯优化改进版算法，因此，贝叶斯优化的其算法本身就多如繁星，实现各种不同种类的贝叶斯优化的库也是琳琅满目，几乎任意一个专业用于超参数优化的工具库都会包含贝叶斯优化的内容。我们可以在以下页面找到大量可以实现贝叶斯优化方法的HPO库：https://www.automl.org/automl/hpo-packages/ ，其中大部分库都是由独立团队开发和维护，因此不同的库之间之间的优劣、性格、功能都有很大的差异。在课程中，我们将介绍如下三个可以实现贝叶斯优化的库：`bayesian-optimization`，`hyperopt`，`optuna`。\n",
    "\n",
    "|HPO库|优劣评价|推荐指数|\n",
    "|-|-|-|\n",
    "|**bayes_opt**|✅实现基于高斯过程的贝叶斯优化<br>✅当参数空间由大量连续型参数构成时<br><br>⛔包含大量离散型参数时避免使用<br>⛔算力/时间稀缺时避免使用|⭐⭐|\n",
    "|**hyperopt**|✅实现基于TPE的贝叶斯优化<br>✅支持各类提效工具<br>✅进度条清晰，展示美观，较少怪异警告或报错<br>✅可推广/拓展至深度学习领域<br><br>⛔不支持基于高斯过程的贝叶斯优化<br>⛔代码限制多、较为复杂，灵活性较差|⭐⭐⭐⭐|\n",
    "|**optuna**|✅（可能需结合其他库）实现基于各类算法的贝叶斯优化<br>✅代码最简洁，同时具备一定的灵活性<br>✅可推广/拓展至深度学习领域<br><br>⛔非关键性功能维护不佳，有怪异警告与报错|⭐⭐⭐⭐|"
   ]
  },
  {
   "cell_type": "markdown",
   "id": "2020b18f-f1df-4b54-97eb-f3c7576e3c92",
   "metadata": {},
   "source": [
    "注意，以上三个库<font color=\"red\">**都不支持基于Python环境的并行或加速**</font>，大多数优化算法库只能够支持基于数据库（如MangoDB，mySQL）的并行或加速，但以上库都可以被部署在分布式计算平台。\n",
    "\n",
    "三个库极其辅助包的安装方法分别如下，使用pip或conda安装时注意关闭梯子。\n",
    "\n",
    "- Bayes_opt"
   ]
  },
  {
   "cell_type": "code",
   "execution_count": null,
   "id": "05a436f0-ac5a-4bf9-b51c-c83692a62fbb",
   "metadata": {},
   "outputs": [],
   "source": [
    "#!pip install bayesian-optimization\n",
    "#!conda install -c conda-forge bayesian-optimization"
   ]
  },
  {
   "cell_type": "markdown",
   "id": "bb484660-eb6b-4649-86b5-56e1400fefa3",
   "metadata": {},
   "source": [
    "- Hyperopt"
   ]
  },
  {
   "cell_type": "code",
   "execution_count": null,
   "id": "1df08313-85d8-40f7-8ef0-9dbf8226e525",
   "metadata": {},
   "outputs": [],
   "source": [
    "#!pip install hyperopt"
   ]
  },
  {
   "cell_type": "markdown",
   "id": "c1e301a3-821e-4268-a88a-b3d9a2a6785f",
   "metadata": {},
   "source": [
    "- Optuna"
   ]
  },
  {
   "cell_type": "code",
   "execution_count": null,
   "id": "4283c05d-066f-465e-9ec2-046558180ee5",
   "metadata": {},
   "outputs": [],
   "source": [
    "#!pip install optuna\n",
    "#!conda install -c conda-forge optuna"
   ]
  },
  {
   "cell_type": "markdown",
   "id": "fc863f94-10d9-4b87-9c9c-013fe8bd9dbf",
   "metadata": {},
   "source": [
    "- Skopt（作为Optuna辅助包安装，也可单独使用）"
   ]
  },
  {
   "cell_type": "code",
   "execution_count": null,
   "id": "f58f2c6c-fcc9-4d7a-bd7d-d6aad75f50ce",
   "metadata": {},
   "outputs": [],
   "source": [
    "#!pip install scikit-optimize"
   ]
  },
  {
   "cell_type": "markdown",
   "id": "451ac597-9195-4c3c-b719-a04e28ab93d4",
   "metadata": {},
   "source": [
    "接下来我们会分别使用三个库来实现贝叶斯优化。在课程中，我们依然使用集成算法中的房价数据作为验证数据，并且呈现出我们之前在不同优化方法上得出的结果作为对比。同时，我们将使用与集成算法中完全一致的随机数种子、以及随机森林算法作为被优化的评估器。\n",
    "\n",
    "- **导入库，确认使用数据**"
   ]
  },
  {
   "cell_type": "code",
   "execution_count": 4,
   "id": "f422db2f-d00c-4e55-a99b-4a0d51d16798",
   "metadata": {},
   "outputs": [],
   "source": [
    "#基本工具\n",
    "import numpy as np\n",
    "import pandas as pd\n",
    "import time\n",
    "import os #修改环境设置\n",
    "\n",
    "#算法/损失/评估指标等\n",
    "import sklearn\n",
    "from sklearn.ensemble import RandomForestRegressor as RFR\n",
    "from sklearn.model_selection import KFold, cross_validate\n",
    "\n",
    "#优化器\n",
    "from bayes_opt import BayesianOptimization\n",
    "\n",
    "import hyperopt\n",
    "from hyperopt import hp, fmin, tpe, Trials, partial\n",
    "from hyperopt.early_stop import no_progress_loss\n",
    "\n",
    "import optuna"
   ]
  },
  {
   "cell_type": "markdown",
   "id": "cb06475e-93c9-4d48-a393-ce77fa730644",
   "metadata": {},
   "source": [
    "Bayes_opt版本：1.2.0"
   ]
  },
  {
   "cell_type": "code",
   "execution_count": 5,
   "id": "45cb3295-a649-4b96-8d5c-51fbe69c332b",
   "metadata": {},
   "outputs": [
    {
     "name": "stdout",
     "output_type": "stream",
     "text": [
      "2.10.0\n"
     ]
    }
   ],
   "source": [
    "print(optuna.__version__)"
   ]
  },
  {
   "cell_type": "code",
   "execution_count": 6,
   "id": "21d93fa6-5451-4e6d-aae6-8a01c2f057d4",
   "metadata": {},
   "outputs": [
    {
     "name": "stdout",
     "output_type": "stream",
     "text": [
      "0.2.7\n"
     ]
    }
   ],
   "source": [
    "print(hyperopt.__version__)"
   ]
  },
  {
   "cell_type": "code",
   "execution_count": 7,
   "id": "d75d9f5e-dbcc-4d40-bd87-21c44ba8f0cd",
   "metadata": {},
   "outputs": [],
   "source": [
    "data = pd.read_csv(r\"D:\\myJupyter\\机器学习\\datasets\\House Price\\train_encode.csv\",index_col=0)\n",
    "\n",
    "X = data.iloc[:,:-1]\n",
    "y = data.iloc[:,-1]"
   ]
  },
  {
   "cell_type": "code",
   "execution_count": 8,
   "id": "f0c5c303-a97b-4821-b9ae-933fac9be335",
   "metadata": {},
   "outputs": [
    {
     "data": {
      "text/html": [
       "<div>\n",
       "<style scoped>\n",
       "    .dataframe tbody tr th:only-of-type {\n",
       "        vertical-align: middle;\n",
       "    }\n",
       "\n",
       "    .dataframe tbody tr th {\n",
       "        vertical-align: top;\n",
       "    }\n",
       "\n",
       "    .dataframe thead th {\n",
       "        text-align: right;\n",
       "    }\n",
       "</style>\n",
       "<table border=\"1\" class=\"dataframe\">\n",
       "  <thead>\n",
       "    <tr style=\"text-align: right;\">\n",
       "      <th></th>\n",
       "      <th>Id</th>\n",
       "      <th>住宅类型</th>\n",
       "      <th>住宅区域</th>\n",
       "      <th>街道接触面积(英尺)</th>\n",
       "      <th>住宅面积</th>\n",
       "      <th>街道路面状况</th>\n",
       "      <th>巷子路面状况</th>\n",
       "      <th>住宅形状(大概)</th>\n",
       "      <th>住宅现状</th>\n",
       "      <th>水电气</th>\n",
       "      <th>...</th>\n",
       "      <th>半开放式门廊面积</th>\n",
       "      <th>泳池面积</th>\n",
       "      <th>泳池质量</th>\n",
       "      <th>篱笆质量</th>\n",
       "      <th>其他配置</th>\n",
       "      <th>其他配置的价值</th>\n",
       "      <th>销售月份</th>\n",
       "      <th>销售年份</th>\n",
       "      <th>销售类型</th>\n",
       "      <th>销售状态</th>\n",
       "    </tr>\n",
       "  </thead>\n",
       "  <tbody>\n",
       "    <tr>\n",
       "      <th>0</th>\n",
       "      <td>0.0</td>\n",
       "      <td>5.0</td>\n",
       "      <td>3.0</td>\n",
       "      <td>36.0</td>\n",
       "      <td>327.0</td>\n",
       "      <td>1.0</td>\n",
       "      <td>0.0</td>\n",
       "      <td>3.0</td>\n",
       "      <td>3.0</td>\n",
       "      <td>0.0</td>\n",
       "      <td>...</td>\n",
       "      <td>0.0</td>\n",
       "      <td>0.0</td>\n",
       "      <td>0.0</td>\n",
       "      <td>0.0</td>\n",
       "      <td>0.0</td>\n",
       "      <td>0.0</td>\n",
       "      <td>1.0</td>\n",
       "      <td>2.0</td>\n",
       "      <td>8.0</td>\n",
       "      <td>4.0</td>\n",
       "    </tr>\n",
       "    <tr>\n",
       "      <th>1</th>\n",
       "      <td>1.0</td>\n",
       "      <td>0.0</td>\n",
       "      <td>3.0</td>\n",
       "      <td>51.0</td>\n",
       "      <td>498.0</td>\n",
       "      <td>1.0</td>\n",
       "      <td>0.0</td>\n",
       "      <td>3.0</td>\n",
       "      <td>3.0</td>\n",
       "      <td>0.0</td>\n",
       "      <td>...</td>\n",
       "      <td>0.0</td>\n",
       "      <td>0.0</td>\n",
       "      <td>0.0</td>\n",
       "      <td>0.0</td>\n",
       "      <td>0.0</td>\n",
       "      <td>0.0</td>\n",
       "      <td>4.0</td>\n",
       "      <td>1.0</td>\n",
       "      <td>8.0</td>\n",
       "      <td>4.0</td>\n",
       "    </tr>\n",
       "    <tr>\n",
       "      <th>2</th>\n",
       "      <td>2.0</td>\n",
       "      <td>5.0</td>\n",
       "      <td>3.0</td>\n",
       "      <td>39.0</td>\n",
       "      <td>702.0</td>\n",
       "      <td>1.0</td>\n",
       "      <td>0.0</td>\n",
       "      <td>0.0</td>\n",
       "      <td>3.0</td>\n",
       "      <td>0.0</td>\n",
       "      <td>...</td>\n",
       "      <td>0.0</td>\n",
       "      <td>0.0</td>\n",
       "      <td>0.0</td>\n",
       "      <td>0.0</td>\n",
       "      <td>0.0</td>\n",
       "      <td>0.0</td>\n",
       "      <td>8.0</td>\n",
       "      <td>2.0</td>\n",
       "      <td>8.0</td>\n",
       "      <td>4.0</td>\n",
       "    </tr>\n",
       "    <tr>\n",
       "      <th>3</th>\n",
       "      <td>3.0</td>\n",
       "      <td>6.0</td>\n",
       "      <td>3.0</td>\n",
       "      <td>31.0</td>\n",
       "      <td>489.0</td>\n",
       "      <td>1.0</td>\n",
       "      <td>0.0</td>\n",
       "      <td>0.0</td>\n",
       "      <td>3.0</td>\n",
       "      <td>0.0</td>\n",
       "      <td>...</td>\n",
       "      <td>0.0</td>\n",
       "      <td>0.0</td>\n",
       "      <td>0.0</td>\n",
       "      <td>0.0</td>\n",
       "      <td>0.0</td>\n",
       "      <td>0.0</td>\n",
       "      <td>1.0</td>\n",
       "      <td>0.0</td>\n",
       "      <td>8.0</td>\n",
       "      <td>0.0</td>\n",
       "    </tr>\n",
       "    <tr>\n",
       "      <th>4</th>\n",
       "      <td>4.0</td>\n",
       "      <td>5.0</td>\n",
       "      <td>3.0</td>\n",
       "      <td>55.0</td>\n",
       "      <td>925.0</td>\n",
       "      <td>1.0</td>\n",
       "      <td>0.0</td>\n",
       "      <td>0.0</td>\n",
       "      <td>3.0</td>\n",
       "      <td>0.0</td>\n",
       "      <td>...</td>\n",
       "      <td>0.0</td>\n",
       "      <td>0.0</td>\n",
       "      <td>0.0</td>\n",
       "      <td>0.0</td>\n",
       "      <td>0.0</td>\n",
       "      <td>0.0</td>\n",
       "      <td>11.0</td>\n",
       "      <td>2.0</td>\n",
       "      <td>8.0</td>\n",
       "      <td>4.0</td>\n",
       "    </tr>\n",
       "  </tbody>\n",
       "</table>\n",
       "<p>5 rows × 80 columns</p>\n",
       "</div>"
      ],
      "text/plain": [
       "    Id  住宅类型  住宅区域  街道接触面积(英尺)   住宅面积  街道路面状况  巷子路面状况  住宅形状(大概)  住宅现状  水电气  \\\n",
       "0  0.0   5.0   3.0        36.0  327.0     1.0     0.0       3.0   3.0  0.0   \n",
       "1  1.0   0.0   3.0        51.0  498.0     1.0     0.0       3.0   3.0  0.0   \n",
       "2  2.0   5.0   3.0        39.0  702.0     1.0     0.0       0.0   3.0  0.0   \n",
       "3  3.0   6.0   3.0        31.0  489.0     1.0     0.0       0.0   3.0  0.0   \n",
       "4  4.0   5.0   3.0        55.0  925.0     1.0     0.0       0.0   3.0  0.0   \n",
       "\n",
       "   ...  半开放式门廊面积  泳池面积  泳池质量  篱笆质量  其他配置  其他配置的价值  销售月份  销售年份  销售类型  销售状态  \n",
       "0  ...       0.0   0.0   0.0   0.0   0.0      0.0   1.0   2.0   8.0   4.0  \n",
       "1  ...       0.0   0.0   0.0   0.0   0.0      0.0   4.0   1.0   8.0   4.0  \n",
       "2  ...       0.0   0.0   0.0   0.0   0.0      0.0   8.0   2.0   8.0   4.0  \n",
       "3  ...       0.0   0.0   0.0   0.0   0.0      0.0   1.0   0.0   8.0   0.0  \n",
       "4  ...       0.0   0.0   0.0   0.0   0.0      0.0  11.0   2.0   8.0   4.0  \n",
       "\n",
       "[5 rows x 80 columns]"
      ]
     },
     "execution_count": 8,
     "metadata": {},
     "output_type": "execute_result"
    }
   ],
   "source": [
    "X.head()"
   ]
  },
  {
   "cell_type": "code",
   "execution_count": 9,
   "id": "1f811913-7675-4896-9b4d-dd9343bab99f",
   "metadata": {},
   "outputs": [
    {
     "data": {
      "text/plain": [
       "(1460, 80)"
      ]
     },
     "execution_count": 9,
     "metadata": {},
     "output_type": "execute_result"
    }
   ],
   "source": [
    "X.shape"
   ]
  },
  {
   "cell_type": "markdown",
   "id": "816d8b14-28a9-41e5-88d1-a2db67e0ccf1",
   "metadata": {},
   "source": [
    "- **确认该数据集上的历史成果**"
   ]
  },
  {
   "cell_type": "markdown",
   "id": "cbb211e2-a68e-41ab-b8a1-e408f6c69c79",
   "metadata": {},
   "source": [
    "|HPO方法|默认参数|网格搜索|随机搜索|随机搜索<br>(大空间)|随机搜索<br>(连续型)|\n",
    "|:-:|:-:|:-:|:-:|:-:|:-:|\n",
    "|搜索空间/全域空间|-|1536/1536|800/1536|1536/3000|1536/无限|\n",
    "|运行时间（分钟）|-|6.36|<font color=\"green\">**2.83(↓)**</font>|<font color=\"green\">**3.86(↓)**</font>|3.92|\n",
    "|搜索最优（RMSE）|30571.266|29179.698|29251.284|<font color=\"green\">**29012.905(↓)**</font>|29148.381|\n",
    "|重建最优（RMSE）|-|28572.070|<font color=\"brown\">**28639.969(↑)**</font>|<font color=\"green\">**28346.673(↓)**</font>|28495.682|"
   ]
  },
  {
   "cell_type": "markdown",
   "id": "ae7241b3-baf4-4f7b-8243-465421ed6b16",
   "metadata": {
    "tags": []
   },
   "source": [
    "## 1 基于Bayes_opt实现GP优化"
   ]
  },
  {
   "cell_type": "markdown",
   "id": "cc57c1d8-1b2c-45a1-b76f-81e0b98799b1",
   "metadata": {
    "tags": []
   },
   "source": [
    "bayes-optimization是最早开源的贝叶斯优化库之一，也是为数不多至今依然保留着高斯过程优化的优化库。由于开源较早、代码简单，bayes-opt常常出现在论文、竞赛kernels或网络学习材料当中，因此理解Bayes_opt的代码是极其重要的课题。不过，bayes-opt对参数空间的处理方式较为原始，也缺乏相应的提效/监控功能，对算力的要求较高，因此它往往不是我们进行优化时的第一首选库。通常来说，当且仅当我们必须要实现基于高斯过程的贝叶斯优化，且算法的参数空间中带有大量连续型参数时，我们才会优先考虑Bayes_opt库。我们可以在github上找到bayes-optmization的官方文档（https://github.com/fmfn/BayesianOptimization） ，想要进一步了解其基本功能与原理的小伙伴可以进行阅读。"
   ]
  },
  {
   "cell_type": "code",
   "execution_count": 39,
   "id": "50cd5710-a203-476c-baa0-cc319259023a",
   "metadata": {},
   "outputs": [],
   "source": [
    "from bayes_opt import BayesianOptimization"
   ]
  },
  {
   "cell_type": "markdown",
   "id": "34e5eba6-e79f-4a80-98b1-c7da516a0263",
   "metadata": {},
   "source": [
    "- 1 定义目标函数"
   ]
  },
  {
   "cell_type": "markdown",
   "id": "d3441cc5-ec41-43fe-8349-395aaeeef768",
   "metadata": {},
   "source": [
    "目标函数的值即$f(x)$的值。贝叶斯优化会计算$f(x)$在不同$x$上的观测值，因此$f(x)$的计算方式需要被明确。在HPO过程中，我们希望能够筛选出令模型泛化能力最大的参数组合，因此$f(x)$应该是损失函数的交叉验证值或者某种评估指标的交叉验证值。**需要注意的是，bayes_opt库存在三个影响目标函数定义的规则**：\n",
    "\n",
    "> **1 目标函数的输入必须是具体的超参数，而不能是整个超参数空间，更不能是数据、算法等超参数以外的元素**，因此在定义目标函数时，我们需要让超参数作为目标函数的输入。<br><br>\n",
    "> **2 超参数的输入值只能是浮点数，不支持整数与字符串**。因此当算法的实际参数需要输入字符串时，该参数不能使用bayes_opt进行调整，当算法的实际参数需要输入整数时，则需要在目标函数中规定参数的类型。<br><br>\n",
    "> **3 bayes_opt只支持寻找$f(x)$的最大值，不支持寻找最小值**。因此当我们定义的目标函数是某种损失时，目标函数的输出需要取负（即，如果使用RMSE，则应该让目标函数输出负RMSE，这样最大化负RMSE后，才是最小化真正的RMSE。）当我们定义的目标函数是准确率，或者auc等指标，则可以让目标函数的输出保持原样。"
   ]
  },
  {
   "cell_type": "code",
   "execution_count": 62,
   "id": "2926e677-d1fa-4417-ab00-cbf28c36295e",
   "metadata": {},
   "outputs": [],
   "source": [
    "def bayesopt_objective(n_estimators,max_depth,max_features,min_impurity_decrease):\n",
    "    \n",
    "    #定义评估器\n",
    "    #需要调整的超参数等于目标函数的输入，不需要调整的超参数则直接等于固定值\n",
    "    #默认参数输入一定是浮点数，因此需要套上int函数处理成整数\n",
    "    reg = RFR(n_estimators = int(n_estimators)\n",
    "              ,max_depth = int(max_depth)\n",
    "              ,max_features = int(max_features)\n",
    "              ,min_impurity_decrease = min_impurity_decrease\n",
    "              ,random_state=1412\n",
    "              ,verbose=False #可自行决定是否开启森林建树的verbose\n",
    "              ,n_jobs=-1)\n",
    "    \n",
    "    #定义损失的输出，5折交叉验证下的结果，输出负根均方误差（-RMSE）\n",
    "    #注意，交叉验证需要使用数据，但我们不能让数据X,y成为目标函数的输入\n",
    "    cv = KFold(n_splits=5,shuffle=True,random_state=1412)\n",
    "    validation_loss = cross_validate(reg,X,y\n",
    "                                     ,scoring=\"neg_root_mean_squared_error\"\n",
    "                                     ,cv=cv\n",
    "                                     ,verbose=False\n",
    "                                     ,n_jobs=-1\n",
    "                                     ,error_score='raise'\n",
    "                                     #如果交叉验证中的算法执行报错，则告诉我们错误的理由\n",
    "                                    )\n",
    "    \n",
    "    #交叉验证输出的评估指标是负根均方误差，因此本来就是负的损失\n",
    "    #目标函数可直接输出该损失的均值\n",
    "    return np.mean(validation_loss[\"test_score\"])"
   ]
  },
  {
   "cell_type": "markdown",
   "id": "771562fa-1ba6-4eef-acbc-4108103346f4",
   "metadata": {},
   "source": [
    "- 2 定义参数空间"
   ]
  },
  {
   "cell_type": "markdown",
   "id": "898407d2-b610-40ac-80c2-abeff04f1268",
   "metadata": {},
   "source": [
    "在任意超参数优化器中，优化器会将参数空格中的超参数组合作为备选组合，一组一组输入到算法中进行训练。在贝叶斯优化中，超参数组合会被输入我们定义好的目标函数$f(x)$中。\n",
    "\n",
    "在bayes_opt中，我们使用字典方式来定义参数空间，其中参数的名称为键，参数的取值范围为值。且任意参数的取值范围为双向闭区间，以下方的空间为例，在n_estimators的取值中，80与100都可以被取到。\n",
    "\n",
    "以下参数空间与我们在随机森林中获得最高分的随机搜索的范围高度相似。"
   ]
  },
  {
   "cell_type": "code",
   "execution_count": 41,
   "id": "7c525e5e-b837-4a34-8af1-f49352acb0f5",
   "metadata": {},
   "outputs": [],
   "source": [
    "param_grid_simple = {'n_estimators': (80,100)\n",
    "                     , 'max_depth':(10,25)\n",
    "                     , \"max_features\": (10,20)\n",
    "                     , \"min_impurity_decrease\":(0,1)\n",
    "                    }"
   ]
  },
  {
   "cell_type": "markdown",
   "id": "45a1f16e-f464-4689-a0d7-a2db1f9ca564",
   "metadata": {},
   "source": [
    "需要注意的是，bayes_opt只支持填写参数空间的上界与下界，不支持填写步长等参数，且bayes_opt会将所有参数都当作连续型超参进行处理，**因此bayes_opt会直接取出闭区间中任意浮点数作为备选参数**。例如，取92.28作为n_estimators的值。\n",
    "\n",
    "这也是为什么在目标函数中，我们需要对整数型超参的取值都套上int函数。假设优化器取出92.28作为n_estimators的值，实际传入随机森林算法的会是int(92.28) = 92，如此我们可以保证算法运行过程中不会因参数类型不符而报错。也因为bayes_opt的这个性质，**输入bayes_opt的参数空间天生会比其他贝叶斯优化库更大/更密，因此需要的迭代次数也更多**。"
   ]
  },
  {
   "cell_type": "markdown",
   "id": "74096c22-430b-4a08-9409-66cdc0f45e8e",
   "metadata": {},
   "source": [
    "- 3 定义优化目标函数的具体流程\n",
    "\n",
    "在有了目标函数与参数空间之后，我们就可以按bayes_opt的规则进行优化了。在任意贝叶斯优化算法的实践过程中，一定都有涉及到随机性的过程——例如，随机抽取点作为观测点，随机抽样部分观测点进行采集函数的计算等等。**在大部分优化库当中，这种随机性是无法控制的**，即便允许我们填写随机数种子，优化算法也不能固定下来。因此我们可以尝试填写随机数种子，但需要记住优化算法每次运行时一定都会不一样。\n",
    "\n",
    "虽然，优化算法无法被复现，但是优化算法得出的最佳超参数的结果却是可以被复现的。只要优化完毕之后，可以从优化算法的实例化对象中取出最佳参数组合以及最佳分数，该最佳参数组合被输入到交叉验证中后，是一定可以复现其最佳分数的。如果没能复现最佳分数，则是交叉验证过程的随机数种子设置存在问题，或者优化算法的迭代流程存在问题。"
   ]
  },
  {
   "cell_type": "code",
   "execution_count": 46,
   "id": "8e7e78e1-2641-40b1-b0c7-9a536fc6f4bb",
   "metadata": {},
   "outputs": [],
   "source": [
    "def param_bayes_opt(init_points,n_iter):\n",
    "    \n",
    "    #定义优化器，先实例化优化器\n",
    "    opt = BayesianOptimization(bayesopt_objective #需要优化的目标函数\n",
    "                               ,param_grid_simple #备选参数空间\n",
    "                               ,random_state=1412 #随机数种子，虽然无法控制住\n",
    "                              )\n",
    "    \n",
    "    #使用优化器，记住bayes_opt只支持最大化\n",
    "    opt.maximize(init_points = init_points #抽取多少个初始观测值\n",
    "                 , n_iter=n_iter #一共观测/迭代多少次\n",
    "                )\n",
    "    \n",
    "    #优化完成，取出最佳参数与最佳分数\n",
    "    params_best = opt.max[\"params\"]\n",
    "    score_best = opt.max[\"target\"]\n",
    "    \n",
    "    #打印最佳参数与最佳分数\n",
    "    print(\"\\n\",\"\\n\",\"best params: \", params_best,\n",
    "          \"\\n\",\"\\n\",\"best cvscore: \", score_best)\n",
    "    \n",
    "    #返回最佳参数与最佳分数\n",
    "    return params_best, score_best"
   ]
  },
  {
   "cell_type": "markdown",
   "id": "ef876d8f-94f3-4c45-a646-a9822f208bab",
   "metadata": {},
   "source": [
    "  "
   ]
  },
  {
   "cell_type": "markdown",
   "id": "13583326-fa62-497c-a5fb-96293d7861ac",
   "metadata": {},
   "source": [
    "- 4 定义验证函数（非必须）"
   ]
  },
  {
   "cell_type": "markdown",
   "id": "2d20d780-e791-413f-850d-47b7ddda5265",
   "metadata": {},
   "source": [
    "优化后的结果是可以复现的，即我们可以对优化算法给出的最优参数进行再验证，其中验证函数与目标函数高度相似，输入参数或超参数空间、输出最终的损失函数结果。在使用sklearn中自带的优化算法时，由于优化算法自己会执行分割数据、交叉验证的步骤，因此优化算法得出的最优分数往往与我们自身验证的分数不同（因为交叉验证时的数据分割不同）。然而在贝叶斯优化过程中，目标函数中的交叉验证即数据分割都是我们自己规定的，**因此原则上来说，只要在目标函数中设置了随机数种子，贝叶斯优化给出的最佳分数一定与我们验证后的分数相同**，所以当你对优化过程的代码比较熟悉时，可以不用进行二次验证。"
   ]
  },
  {
   "cell_type": "code",
   "execution_count": 48,
   "id": "c313efce-64d0-4929-a888-550f2d47d1c3",
   "metadata": {},
   "outputs": [],
   "source": [
    "def bayes_opt_validation(params_best):\n",
    "    \n",
    "    reg = RFR(n_estimators = int(params_best[\"n_estimators\"]) \n",
    "              ,max_depth = int(params_best[\"max_depth\"])\n",
    "              ,max_features = int(params_best[\"max_features\"])\n",
    "              ,min_impurity_decrease = params_best[\"min_impurity_decrease\"]\n",
    "              ,random_state=1412\n",
    "              ,verbose=False\n",
    "              ,n_jobs=-1)\n",
    "\n",
    "    cv = KFold(n_splits=5,shuffle=True,random_state=1412)\n",
    "    validation_loss = cross_validate(reg,X,y\n",
    "                                     ,scoring=\"neg_root_mean_squared_error\"\n",
    "                                     ,cv=cv\n",
    "                                     ,verbose=False\n",
    "                                     ,n_jobs=-1\n",
    "                                    )\n",
    "    return np.mean(validation_loss[\"test_score\"])"
   ]
  },
  {
   "cell_type": "markdown",
   "id": "20f98965-969f-4a05-8965-b5e3592d542b",
   "metadata": {},
   "source": [
    "  "
   ]
  },
  {
   "cell_type": "markdown",
   "id": "5d656828-b589-4328-8a7f-870e6d1644d5",
   "metadata": {},
   "source": [
    "- 5 执行实际优化流程"
   ]
  },
  {
   "cell_type": "code",
   "execution_count": 49,
   "id": "b29c7160-8ab2-4f5d-9b7a-5c56a79ae03f",
   "metadata": {
    "collapsed": true,
    "jupyter": {
     "outputs_hidden": true
    },
    "tags": []
   },
   "outputs": [
    {
     "name": "stdout",
     "output_type": "stream",
     "text": [
      "|   iter    |  target   | max_depth | max_fe... | min_im... | n_esti... |\n",
      "-------------------------------------------------------------------------\n",
      "| \u001b[0m 1       \u001b[0m | \u001b[0m-2.948e+0\u001b[0m | \u001b[0m 23.2    \u001b[0m | \u001b[0m 17.52   \u001b[0m | \u001b[0m 0.06379 \u001b[0m | \u001b[0m 88.79   \u001b[0m |\n",
      "| \u001b[95m 2       \u001b[0m | \u001b[95m-2.909e+0\u001b[0m | \u001b[95m 14.8    \u001b[0m | \u001b[95m 17.61   \u001b[0m | \u001b[95m 0.9214  \u001b[0m | \u001b[95m 97.58   \u001b[0m |\n",
      "| \u001b[95m 3       \u001b[0m | \u001b[95m-2.9e+04 \u001b[0m | \u001b[95m 15.86   \u001b[0m | \u001b[95m 15.56   \u001b[0m | \u001b[95m 0.2661  \u001b[0m | \u001b[95m 87.98   \u001b[0m |\n",
      "| \u001b[95m 4       \u001b[0m | \u001b[95m-2.887e+0\u001b[0m | \u001b[95m 14.05   \u001b[0m | \u001b[95m 16.84   \u001b[0m | \u001b[95m 0.06744 \u001b[0m | \u001b[95m 89.72   \u001b[0m |\n",
      "| \u001b[0m 5       \u001b[0m | \u001b[0m-2.887e+0\u001b[0m | \u001b[0m 18.71   \u001b[0m | \u001b[0m 19.17   \u001b[0m | \u001b[0m 0.9315  \u001b[0m | \u001b[0m 83.7    \u001b[0m |\n",
      "| \u001b[0m 6       \u001b[0m | \u001b[0m-2.895e+0\u001b[0m | \u001b[0m 17.7    \u001b[0m | \u001b[0m 19.58   \u001b[0m | \u001b[0m 0.7127  \u001b[0m | \u001b[0m 89.18   \u001b[0m |\n",
      "| \u001b[0m 7       \u001b[0m | \u001b[0m-2.968e+0\u001b[0m | \u001b[0m 14.21   \u001b[0m | \u001b[0m 12.62   \u001b[0m | \u001b[0m 0.3381  \u001b[0m | \u001b[0m 91.51   \u001b[0m |\n",
      "| \u001b[0m 8       \u001b[0m | \u001b[0m-2.91e+04\u001b[0m | \u001b[0m 23.23   \u001b[0m | \u001b[0m 10.89   \u001b[0m | \u001b[0m 0.6078  \u001b[0m | \u001b[0m 95.06   \u001b[0m |\n",
      "| \u001b[0m 9       \u001b[0m | \u001b[0m-2.891e+0\u001b[0m | \u001b[0m 14.89   \u001b[0m | \u001b[0m 14.0    \u001b[0m | \u001b[0m 0.9487  \u001b[0m | \u001b[0m 80.16   \u001b[0m |\n",
      "| \u001b[0m 10      \u001b[0m | \u001b[0m-2.958e+0\u001b[0m | \u001b[0m 11.52   \u001b[0m | \u001b[0m 12.58   \u001b[0m | \u001b[0m 0.03276 \u001b[0m | \u001b[0m 92.56   \u001b[0m |\n",
      "| \u001b[0m 11      \u001b[0m | \u001b[0m-2.91e+04\u001b[0m | \u001b[0m 13.14   \u001b[0m | \u001b[0m 13.31   \u001b[0m | \u001b[0m 0.2563  \u001b[0m | \u001b[0m 98.24   \u001b[0m |\n",
      "| \u001b[0m 12      \u001b[0m | \u001b[0m-2.95e+04\u001b[0m | \u001b[0m 17.94   \u001b[0m | \u001b[0m 11.48   \u001b[0m | \u001b[0m 0.3778  \u001b[0m | \u001b[0m 82.09   \u001b[0m |\n",
      "| \u001b[0m 13      \u001b[0m | \u001b[0m-2.913e+0\u001b[0m | \u001b[0m 16.02   \u001b[0m | \u001b[0m 17.03   \u001b[0m | \u001b[0m 0.7735  \u001b[0m | \u001b[0m 88.31   \u001b[0m |\n",
      "| \u001b[0m 14      \u001b[0m | \u001b[0m-2.925e+0\u001b[0m | \u001b[0m 13.92   \u001b[0m | \u001b[0m 15.04   \u001b[0m | \u001b[0m 0.529   \u001b[0m | \u001b[0m 93.66   \u001b[0m |\n",
      "| \u001b[0m 15      \u001b[0m | \u001b[0m-2.938e+0\u001b[0m | \u001b[0m 12.51   \u001b[0m | \u001b[0m 13.69   \u001b[0m | \u001b[0m 0.4482  \u001b[0m | \u001b[0m 99.9    \u001b[0m |\n",
      "| \u001b[0m 16      \u001b[0m | \u001b[0m-2.933e+0\u001b[0m | \u001b[0m 17.73   \u001b[0m | \u001b[0m 10.05   \u001b[0m | \u001b[0m 0.4143  \u001b[0m | \u001b[0m 82.79   \u001b[0m |\n",
      "| \u001b[0m 17      \u001b[0m | \u001b[0m-2.952e+0\u001b[0m | \u001b[0m 16.6    \u001b[0m | \u001b[0m 10.84   \u001b[0m | \u001b[0m 0.9134  \u001b[0m | \u001b[0m 88.37   \u001b[0m |\n",
      "| \u001b[0m 18      \u001b[0m | \u001b[0m-2.958e+0\u001b[0m | \u001b[0m 21.92   \u001b[0m | \u001b[0m 15.0    \u001b[0m | \u001b[0m 0.8219  \u001b[0m | \u001b[0m 85.86   \u001b[0m |\n",
      "| \u001b[0m 19      \u001b[0m | \u001b[0m-2.934e+0\u001b[0m | \u001b[0m 14.07   \u001b[0m | \u001b[0m 11.38   \u001b[0m | \u001b[0m 0.05068 \u001b[0m | \u001b[0m 91.53   \u001b[0m |\n",
      "| \u001b[0m 20      \u001b[0m | \u001b[0m-2.962e+0\u001b[0m | \u001b[0m 10.35   \u001b[0m | \u001b[0m 17.38   \u001b[0m | \u001b[0m 0.7624  \u001b[0m | \u001b[0m 99.19   \u001b[0m |\n",
      "| \u001b[0m 21      \u001b[0m | \u001b[0m-2.937e+0\u001b[0m | \u001b[0m 13.97   \u001b[0m | \u001b[0m 16.09   \u001b[0m | \u001b[0m 0.3349  \u001b[0m | \u001b[0m 88.16   \u001b[0m |\n",
      "| \u001b[0m 22      \u001b[0m | \u001b[0m-2.887e+0\u001b[0m | \u001b[0m 14.95   \u001b[0m | \u001b[0m 16.89   \u001b[0m | \u001b[0m 0.07827 \u001b[0m | \u001b[0m 89.8    \u001b[0m |\n",
      "| \u001b[0m 23      \u001b[0m | \u001b[0m-2.908e+0\u001b[0m | \u001b[0m 14.21   \u001b[0m | \u001b[0m 17.99   \u001b[0m | \u001b[0m 0.4688  \u001b[0m | \u001b[0m 90.52   \u001b[0m |\n",
      "| \u001b[0m 24      \u001b[0m | \u001b[0m-2.887e+0\u001b[0m | \u001b[0m 18.29   \u001b[0m | \u001b[0m 19.35   \u001b[0m | \u001b[0m 0.8535  \u001b[0m | \u001b[0m 85.12   \u001b[0m |\n",
      "| \u001b[0m 25      \u001b[0m | \u001b[0m-2.968e+0\u001b[0m | \u001b[0m 19.49   \u001b[0m | \u001b[0m 20.0    \u001b[0m | \u001b[0m 0.0     \u001b[0m | \u001b[0m 84.53   \u001b[0m |\n",
      "| \u001b[0m 26      \u001b[0m | \u001b[0m-2.906e+0\u001b[0m | \u001b[0m 17.9    \u001b[0m | \u001b[0m 18.8    \u001b[0m | \u001b[0m 1.0     \u001b[0m | \u001b[0m 84.29   \u001b[0m |\n",
      "| \u001b[95m 27      \u001b[0m | \u001b[95m-2.886e+0\u001b[0m | \u001b[95m 14.42   \u001b[0m | \u001b[95m 16.55   \u001b[0m | \u001b[95m 0.0     \u001b[0m | \u001b[95m 90.57   \u001b[0m |\n",
      "| \u001b[95m 28      \u001b[0m | \u001b[95m-2.885e+0\u001b[0m | \u001b[95m 14.52   \u001b[0m | \u001b[95m 16.53   \u001b[0m | \u001b[95m 1.0     \u001b[0m | \u001b[95m 90.12   \u001b[0m |\n",
      "| \u001b[0m 29      \u001b[0m | \u001b[0m-2.902e+0\u001b[0m | \u001b[0m 15.17   \u001b[0m | \u001b[0m 15.66   \u001b[0m | \u001b[0m 0.319   \u001b[0m | \u001b[0m 89.94   \u001b[0m |\n",
      "| \u001b[0m 30      \u001b[0m | \u001b[0m-2.928e+0\u001b[0m | \u001b[0m 13.27   \u001b[0m | \u001b[0m 16.41   \u001b[0m | \u001b[0m 0.8249  \u001b[0m | \u001b[0m 90.6    \u001b[0m |\n",
      "| \u001b[95m 31      \u001b[0m | \u001b[95m-2.881e+0\u001b[0m | \u001b[95m 15.2    \u001b[0m | \u001b[95m 16.7    \u001b[0m | \u001b[95m 0.6155  \u001b[0m | \u001b[95m 90.9    \u001b[0m |\n",
      "| \u001b[0m 32      \u001b[0m | \u001b[0m-2.905e+0\u001b[0m | \u001b[0m 16.04   \u001b[0m | \u001b[0m 17.33   \u001b[0m | \u001b[0m 1.0     \u001b[0m | \u001b[0m 90.32   \u001b[0m |\n",
      "| \u001b[0m 33      \u001b[0m | \u001b[0m-2.889e+0\u001b[0m | \u001b[0m 18.73   \u001b[0m | \u001b[0m 18.79   \u001b[0m | \u001b[0m 1.0     \u001b[0m | \u001b[0m 82.43   \u001b[0m |\n",
      "| \u001b[0m 34      \u001b[0m | \u001b[0m-2.891e+0\u001b[0m | \u001b[0m 17.79   \u001b[0m | \u001b[0m 19.32   \u001b[0m | \u001b[0m 1.0     \u001b[0m | \u001b[0m 86.55   \u001b[0m |\n",
      "| \u001b[95m 35      \u001b[0m | \u001b[95m-2.876e+0\u001b[0m | \u001b[95m 19.43   \u001b[0m | \u001b[95m 17.86   \u001b[0m | \u001b[95m 1.0     \u001b[0m | \u001b[95m 83.36   \u001b[0m |\n",
      "| \u001b[0m 36      \u001b[0m | \u001b[0m-2.905e+0\u001b[0m | \u001b[0m 20.3    \u001b[0m | \u001b[0m 17.85   \u001b[0m | \u001b[0m 1.0     \u001b[0m | \u001b[0m 82.25   \u001b[0m |\n",
      "| \u001b[0m 37      \u001b[0m | \u001b[0m-2.899e+0\u001b[0m | \u001b[0m 18.43   \u001b[0m | \u001b[0m 16.97   \u001b[0m | \u001b[0m 0.6339  \u001b[0m | \u001b[0m 82.39   \u001b[0m |\n",
      "| \u001b[0m 38      \u001b[0m | \u001b[0m-2.929e+0\u001b[0m | \u001b[0m 18.72   \u001b[0m | \u001b[0m 17.58   \u001b[0m | \u001b[0m 0.8506  \u001b[0m | \u001b[0m 86.01   \u001b[0m |\n",
      "| \u001b[0m 39      \u001b[0m | \u001b[0m-2.887e+0\u001b[0m | \u001b[0m 16.64   \u001b[0m | \u001b[0m 19.95   \u001b[0m | \u001b[0m 0.8027  \u001b[0m | \u001b[0m 85.54   \u001b[0m |\n",
      "| \u001b[0m 40      \u001b[0m | \u001b[0m-2.889e+0\u001b[0m | \u001b[0m 16.01   \u001b[0m | \u001b[0m 19.89   \u001b[0m | \u001b[0m 0.9527  \u001b[0m | \u001b[0m 87.31   \u001b[0m |\n",
      "| \u001b[0m 41      \u001b[0m | \u001b[0m-2.89e+04\u001b[0m | \u001b[0m 15.33   \u001b[0m | \u001b[0m 15.78   \u001b[0m | \u001b[0m 1.0     \u001b[0m | \u001b[0m 80.25   \u001b[0m |\n",
      "| \u001b[0m 42      \u001b[0m | \u001b[0m-2.939e+0\u001b[0m | \u001b[0m 13.54   \u001b[0m | \u001b[0m 15.32   \u001b[0m | \u001b[0m 1.0     \u001b[0m | \u001b[0m 80.0    \u001b[0m |\n",
      "| \u001b[0m 43      \u001b[0m | \u001b[0m-2.947e+0\u001b[0m | \u001b[0m 16.93   \u001b[0m | \u001b[0m 14.72   \u001b[0m | \u001b[0m 0.81    \u001b[0m | \u001b[0m 80.6    \u001b[0m |\n",
      "| \u001b[0m 44      \u001b[0m | \u001b[0m-2.895e+0\u001b[0m | \u001b[0m 17.53   \u001b[0m | \u001b[0m 19.89   \u001b[0m | \u001b[0m 0.3215  \u001b[0m | \u001b[0m 87.48   \u001b[0m |\n",
      "| \u001b[0m 45      \u001b[0m | \u001b[0m-2.889e+0\u001b[0m | \u001b[0m 18.71   \u001b[0m | \u001b[0m 18.17   \u001b[0m | \u001b[0m 0.03282 \u001b[0m | \u001b[0m 82.97   \u001b[0m |\n",
      "| \u001b[0m 46      \u001b[0m | \u001b[0m-2.903e+0\u001b[0m | \u001b[0m 15.93   \u001b[0m | \u001b[0m 19.28   \u001b[0m | \u001b[0m 0.007221\u001b[0m | \u001b[0m 86.27   \u001b[0m |\n",
      "| \u001b[0m 47      \u001b[0m | \u001b[0m-2.9e+04 \u001b[0m | \u001b[0m 16.01   \u001b[0m | \u001b[0m 20.0    \u001b[0m | \u001b[0m 0.0     \u001b[0m | \u001b[0m 88.86   \u001b[0m |\n",
      "| \u001b[95m 48      \u001b[0m | \u001b[95m-2.875e+0\u001b[0m | \u001b[95m 15.67   \u001b[0m | \u001b[95m 17.5    \u001b[0m | \u001b[95m 1.0     \u001b[0m | \u001b[95m 80.3    \u001b[0m |\n",
      "| \u001b[0m 49      \u001b[0m | \u001b[0m-2.878e+0\u001b[0m | \u001b[0m 15.38   \u001b[0m | \u001b[0m 17.32   \u001b[0m | \u001b[0m 1.0     \u001b[0m | \u001b[0m 81.6    \u001b[0m |\n",
      "| \u001b[95m 50      \u001b[0m | \u001b[95m-2.853e+0\u001b[0m | \u001b[95m 15.99   \u001b[0m | \u001b[95m 18.21   \u001b[0m | \u001b[95m 0.0     \u001b[0m | \u001b[95m 81.1    \u001b[0m |\n",
      "| \u001b[0m 51      \u001b[0m | \u001b[0m-2.904e+0\u001b[0m | \u001b[0m 15.55   \u001b[0m | \u001b[0m 19.09   \u001b[0m | \u001b[0m 0.601   \u001b[0m | \u001b[0m 81.11   \u001b[0m |\n",
      "| \u001b[0m 52      \u001b[0m | \u001b[0m-2.924e+0\u001b[0m | \u001b[0m 16.73   \u001b[0m | \u001b[0m 17.63   \u001b[0m | \u001b[0m 0.4579  \u001b[0m | \u001b[0m 81.92   \u001b[0m |\n",
      "| \u001b[0m 53      \u001b[0m | \u001b[0m-2.876e+0\u001b[0m | \u001b[0m 15.32   \u001b[0m | \u001b[0m 17.65   \u001b[0m | \u001b[0m 0.0     \u001b[0m | \u001b[0m 80.81   \u001b[0m |\n",
      "| \u001b[0m 54      \u001b[0m | \u001b[0m-2.925e+0\u001b[0m | \u001b[0m 16.63   \u001b[0m | \u001b[0m 18.02   \u001b[0m | \u001b[0m 0.5035  \u001b[0m | \u001b[0m 80.17   \u001b[0m |\n",
      "| \u001b[95m 55      \u001b[0m | \u001b[95m-2.852e+0\u001b[0m | \u001b[95m 15.45   \u001b[0m | \u001b[95m 18.28   \u001b[0m | \u001b[95m 0.09286 \u001b[0m | \u001b[95m 81.23   \u001b[0m |\n",
      "| \u001b[0m 56      \u001b[0m | \u001b[0m-2.853e+0\u001b[0m | \u001b[0m 15.55   \u001b[0m | \u001b[0m 18.11   \u001b[0m | \u001b[0m 0.0     \u001b[0m | \u001b[0m 81.88   \u001b[0m |\n",
      "| \u001b[0m 57      \u001b[0m | \u001b[0m-2.907e+0\u001b[0m | \u001b[0m 14.55   \u001b[0m | \u001b[0m 18.07   \u001b[0m | \u001b[0m 0.0     \u001b[0m | \u001b[0m 82.08   \u001b[0m |\n",
      "| \u001b[0m 58      \u001b[0m | \u001b[0m-2.921e+0\u001b[0m | \u001b[0m 16.2    \u001b[0m | \u001b[0m 18.99   \u001b[0m | \u001b[0m 0.0997  \u001b[0m | \u001b[0m 81.97   \u001b[0m |\n",
      "| \u001b[95m 59      \u001b[0m | \u001b[95m-2.852e+0\u001b[0m | \u001b[95m 15.6    \u001b[0m | \u001b[95m 18.06   \u001b[0m | \u001b[95m 0.5865  \u001b[0m | \u001b[95m 81.86   \u001b[0m |\n",
      "| \u001b[0m 60      \u001b[0m | \u001b[0m-2.876e+0\u001b[0m | \u001b[0m 15.49   \u001b[0m | \u001b[0m 17.44   \u001b[0m | \u001b[0m 0.07222 \u001b[0m | \u001b[0m 81.46   \u001b[0m |\n",
      "| \u001b[0m 61      \u001b[0m | \u001b[0m-2.877e+0\u001b[0m | \u001b[0m 15.42   \u001b[0m | \u001b[0m 17.81   \u001b[0m | \u001b[0m 0.9484  \u001b[0m | \u001b[0m 82.82   \u001b[0m |\n",
      "| \u001b[0m 62      \u001b[0m | \u001b[0m-2.853e+0\u001b[0m | \u001b[0m 15.55   \u001b[0m | \u001b[0m 18.09   \u001b[0m | \u001b[0m 0.5876  \u001b[0m | \u001b[0m 80.75   \u001b[0m |\n",
      "| \u001b[0m 63      \u001b[0m | \u001b[0m-2.923e+0\u001b[0m | \u001b[0m 19.64   \u001b[0m | \u001b[0m 16.39   \u001b[0m | \u001b[0m 0.7572  \u001b[0m | \u001b[0m 83.73   \u001b[0m |\n",
      "| \u001b[0m 64      \u001b[0m | \u001b[0m-2.909e+0\u001b[0m | \u001b[0m 14.75   \u001b[0m | \u001b[0m 17.82   \u001b[0m | \u001b[0m 0.9799  \u001b[0m | \u001b[0m 81.05   \u001b[0m |\n",
      "| \u001b[0m 65      \u001b[0m | \u001b[0m-2.88e+04\u001b[0m | \u001b[0m 15.32   \u001b[0m | \u001b[0m 16.56   \u001b[0m | \u001b[0m 0.5475  \u001b[0m | \u001b[0m 83.21   \u001b[0m |\n",
      "| \u001b[0m 66      \u001b[0m | \u001b[0m-2.914e+0\u001b[0m | \u001b[0m 15.0    \u001b[0m | \u001b[0m 17.24   \u001b[0m | \u001b[0m 1.0     \u001b[0m | \u001b[0m 84.24   \u001b[0m |\n",
      "| \u001b[0m 67      \u001b[0m | \u001b[0m-2.896e+0\u001b[0m | \u001b[0m 15.05   \u001b[0m | \u001b[0m 15.7    \u001b[0m | \u001b[0m 1.0     \u001b[0m | \u001b[0m 82.43   \u001b[0m |\n",
      "| \u001b[0m 68      \u001b[0m | \u001b[0m-2.895e+0\u001b[0m | \u001b[0m 15.77   \u001b[0m | \u001b[0m 15.46   \u001b[0m | \u001b[0m 0.0     \u001b[0m | \u001b[0m 83.74   \u001b[0m |\n",
      "| \u001b[0m 69      \u001b[0m | \u001b[0m-2.853e+0\u001b[0m | \u001b[0m 15.26   \u001b[0m | \u001b[0m 18.45   \u001b[0m | \u001b[0m 0.02002 \u001b[0m | \u001b[0m 80.46   \u001b[0m |\n",
      "| \u001b[0m 70      \u001b[0m | \u001b[0m-2.941e+0\u001b[0m | \u001b[0m 16.16   \u001b[0m | \u001b[0m 16.76   \u001b[0m | \u001b[0m 0.2009  \u001b[0m | \u001b[0m 92.03   \u001b[0m |\n",
      "| \u001b[0m 71      \u001b[0m | \u001b[0m-2.909e+0\u001b[0m | \u001b[0m 14.34   \u001b[0m | \u001b[0m 19.08   \u001b[0m | \u001b[0m 0.0958  \u001b[0m | \u001b[0m 80.04   \u001b[0m |\n",
      "| \u001b[0m 72      \u001b[0m | \u001b[0m-2.875e+0\u001b[0m | \u001b[0m 15.59   \u001b[0m | \u001b[0m 17.78   \u001b[0m | \u001b[0m 0.0424  \u001b[0m | \u001b[0m 82.72   \u001b[0m |\n",
      "| \u001b[0m 73      \u001b[0m | \u001b[0m-2.967e+0\u001b[0m | \u001b[0m 14.36   \u001b[0m | \u001b[0m 12.3    \u001b[0m | \u001b[0m 0.6712  \u001b[0m | \u001b[0m 80.33   \u001b[0m |\n",
      "| \u001b[0m 74      \u001b[0m | \u001b[0m-2.907e+0\u001b[0m | \u001b[0m 14.23   \u001b[0m | \u001b[0m 19.86   \u001b[0m | \u001b[0m 0.9782  \u001b[0m | \u001b[0m 86.91   \u001b[0m |\n",
      "| \u001b[0m 75      \u001b[0m | \u001b[0m-2.972e+0\u001b[0m | \u001b[0m 19.33   \u001b[0m | \u001b[0m 20.0    \u001b[0m | \u001b[0m 1.0     \u001b[0m | \u001b[0m 88.35   \u001b[0m |\n",
      "| \u001b[0m 76      \u001b[0m | \u001b[0m-2.894e+0\u001b[0m | \u001b[0m 17.28   \u001b[0m | \u001b[0m 19.91   \u001b[0m | \u001b[0m 0.6293  \u001b[0m | \u001b[0m 90.76   \u001b[0m |\n",
      "| \u001b[0m 77      \u001b[0m | \u001b[0m-2.935e+0\u001b[0m | \u001b[0m 13.92   \u001b[0m | \u001b[0m 15.84   \u001b[0m | \u001b[0m 0.1577  \u001b[0m | \u001b[0m 83.59   \u001b[0m |\n",
      "| \u001b[0m 78      \u001b[0m | \u001b[0m-2.883e+0\u001b[0m | \u001b[0m 18.14   \u001b[0m | \u001b[0m 19.61   \u001b[0m | \u001b[0m 0.6678  \u001b[0m | \u001b[0m 92.57   \u001b[0m |\n",
      "| \u001b[0m 79      \u001b[0m | \u001b[0m-2.93e+04\u001b[0m | \u001b[0m 19.34   \u001b[0m | \u001b[0m 18.94   \u001b[0m | \u001b[0m 0.5768  \u001b[0m | \u001b[0m 92.74   \u001b[0m |\n",
      "| \u001b[0m 80      \u001b[0m | \u001b[0m-2.887e+0\u001b[0m | \u001b[0m 16.88   \u001b[0m | \u001b[0m 19.67   \u001b[0m | \u001b[0m 0.3616  \u001b[0m | \u001b[0m 93.24   \u001b[0m |\n",
      "| \u001b[0m 81      \u001b[0m | \u001b[0m-2.889e+0\u001b[0m | \u001b[0m 16.73   \u001b[0m | \u001b[0m 19.17   \u001b[0m | \u001b[0m 0.8361  \u001b[0m | \u001b[0m 91.97   \u001b[0m |\n",
      "| \u001b[0m 82      \u001b[0m | \u001b[0m-2.9e+04 \u001b[0m | \u001b[0m 17.85   \u001b[0m | \u001b[0m 20.0    \u001b[0m | \u001b[0m 1.0     \u001b[0m | \u001b[0m 93.95   \u001b[0m |\n",
      "| \u001b[0m 83      \u001b[0m | \u001b[0m-2.881e+0\u001b[0m | \u001b[0m 15.84   \u001b[0m | \u001b[0m 20.0    \u001b[0m | \u001b[0m 0.0     \u001b[0m | \u001b[0m 92.1    \u001b[0m |\n",
      "| \u001b[0m 84      \u001b[0m | \u001b[0m-2.9e+04 \u001b[0m | \u001b[0m 15.28   \u001b[0m | \u001b[0m 19.27   \u001b[0m | \u001b[0m 0.85    \u001b[0m | \u001b[0m 93.07   \u001b[0m |\n",
      "| \u001b[0m 85      \u001b[0m | \u001b[0m-2.902e+0\u001b[0m | \u001b[0m 15.43   \u001b[0m | \u001b[0m 19.74   \u001b[0m | \u001b[0m 0.3355  \u001b[0m | \u001b[0m 90.84   \u001b[0m |\n",
      "| \u001b[0m 86      \u001b[0m | \u001b[0m-2.901e+0\u001b[0m | \u001b[0m 15.86   \u001b[0m | \u001b[0m 19.64   \u001b[0m | \u001b[0m 0.252   \u001b[0m | \u001b[0m 95.07   \u001b[0m |\n",
      "| \u001b[0m 87      \u001b[0m | \u001b[0m-2.942e+0\u001b[0m | \u001b[0m 16.98   \u001b[0m | \u001b[0m 14.7    \u001b[0m | \u001b[0m 0.2749  \u001b[0m | \u001b[0m 86.28   \u001b[0m |\n",
      "| \u001b[0m 88      \u001b[0m | \u001b[0m-2.887e+0\u001b[0m | \u001b[0m 13.06   \u001b[0m | \u001b[0m 19.95   \u001b[0m | \u001b[0m 0.6557  \u001b[0m | \u001b[0m 94.74   \u001b[0m |\n",
      "| \u001b[0m 89      \u001b[0m | \u001b[0m-2.887e+0\u001b[0m | \u001b[0m 13.48   \u001b[0m | \u001b[0m 19.61   \u001b[0m | \u001b[0m 0.1196  \u001b[0m | \u001b[0m 96.02   \u001b[0m |\n",
      "| \u001b[0m 90      \u001b[0m | \u001b[0m-2.881e+0\u001b[0m | \u001b[0m 12.42   \u001b[0m | \u001b[0m 18.66   \u001b[0m | \u001b[0m 0.7506  \u001b[0m | \u001b[0m 95.3    \u001b[0m |\n",
      "| \u001b[0m 91      \u001b[0m | \u001b[0m-2.918e+0\u001b[0m | \u001b[0m 11.9    \u001b[0m | \u001b[0m 19.72   \u001b[0m | \u001b[0m 0.0     \u001b[0m | \u001b[0m 95.61   \u001b[0m |\n",
      "| \u001b[0m 92      \u001b[0m | \u001b[0m-2.887e+0\u001b[0m | \u001b[0m 13.73   \u001b[0m | \u001b[0m 18.69   \u001b[0m | \u001b[0m 1.0     \u001b[0m | \u001b[0m 95.17   \u001b[0m |\n",
      "| \u001b[0m 93      \u001b[0m | \u001b[0m-2.877e+0\u001b[0m | \u001b[0m 12.65   \u001b[0m | \u001b[0m 18.6    \u001b[0m | \u001b[0m 1.0     \u001b[0m | \u001b[0m 93.96   \u001b[0m |\n",
      "| \u001b[0m 94      \u001b[0m | \u001b[0m-2.925e+0\u001b[0m | \u001b[0m 12.07   \u001b[0m | \u001b[0m 17.6    \u001b[0m | \u001b[0m 0.9865  \u001b[0m | \u001b[0m 94.43   \u001b[0m |\n",
      "| \u001b[0m 95      \u001b[0m | \u001b[0m-2.887e+0\u001b[0m | \u001b[0m 13.28   \u001b[0m | \u001b[0m 18.87   \u001b[0m | \u001b[0m 0.0     \u001b[0m | \u001b[0m 94.21   \u001b[0m |\n",
      "| \u001b[0m 96      \u001b[0m | \u001b[0m-2.877e+0\u001b[0m | \u001b[0m 12.86   \u001b[0m | \u001b[0m 19.29   \u001b[0m | \u001b[0m 0.8052  \u001b[0m | \u001b[0m 92.65   \u001b[0m |\n",
      "| \u001b[0m 97      \u001b[0m | \u001b[0m-2.875e+0\u001b[0m | \u001b[0m 12.29   \u001b[0m | \u001b[0m 19.9    \u001b[0m | \u001b[0m 0.7932  \u001b[0m | \u001b[0m 93.42   \u001b[0m |\n",
      "| \u001b[0m 98      \u001b[0m | \u001b[0m-2.924e+0\u001b[0m | \u001b[0m 11.49   \u001b[0m | \u001b[0m 18.92   \u001b[0m | \u001b[0m 0.9259  \u001b[0m | \u001b[0m 92.54   \u001b[0m |\n",
      "| \u001b[0m 99      \u001b[0m | \u001b[0m-2.906e+0\u001b[0m | \u001b[0m 14.06   \u001b[0m | \u001b[0m 19.77   \u001b[0m | \u001b[0m 0.3828  \u001b[0m | \u001b[0m 92.67   \u001b[0m |\n",
      "| \u001b[0m 100     \u001b[0m | \u001b[0m-2.89e+04\u001b[0m | \u001b[0m 13.04   \u001b[0m | \u001b[0m 18.51   \u001b[0m | \u001b[0m 0.6317  \u001b[0m | \u001b[0m 96.31   \u001b[0m |\n",
      "| \u001b[0m 101     \u001b[0m | \u001b[0m-2.853e+0\u001b[0m | \u001b[0m 15.36   \u001b[0m | \u001b[0m 18.1    \u001b[0m | \u001b[0m 0.4371  \u001b[0m | \u001b[0m 80.01   \u001b[0m |\n",
      "| \u001b[0m 102     \u001b[0m | \u001b[0m-2.898e+0\u001b[0m | \u001b[0m 14.89   \u001b[0m | \u001b[0m 19.93   \u001b[0m | \u001b[0m 0.9062  \u001b[0m | \u001b[0m 96.9    \u001b[0m |\n",
      "| \u001b[0m 103     \u001b[0m | \u001b[0m-2.889e+0\u001b[0m | \u001b[0m 13.66   \u001b[0m | \u001b[0m 19.58   \u001b[0m | \u001b[0m 0.4008  \u001b[0m | \u001b[0m 98.42   \u001b[0m |\n",
      "| \u001b[0m 104     \u001b[0m | \u001b[0m-2.89e+04\u001b[0m | \u001b[0m 17.32   \u001b[0m | \u001b[0m 19.69   \u001b[0m | \u001b[0m 0.04412 \u001b[0m | \u001b[0m 91.96   \u001b[0m |\n",
      "| \u001b[0m 105     \u001b[0m | \u001b[0m-2.853e+0\u001b[0m | \u001b[0m 15.69   \u001b[0m | \u001b[0m 18.36   \u001b[0m | \u001b[0m 0.01086 \u001b[0m | \u001b[0m 80.16   \u001b[0m |\n",
      "| \u001b[0m 106     \u001b[0m | \u001b[0m-2.9e+04 \u001b[0m | \u001b[0m 14.83   \u001b[0m | \u001b[0m 19.7    \u001b[0m | \u001b[0m 0.4319  \u001b[0m | \u001b[0m 99.75   \u001b[0m |\n",
      "| \u001b[0m 107     \u001b[0m | \u001b[0m-2.884e+0\u001b[0m | \u001b[0m 18.21   \u001b[0m | \u001b[0m 19.92   \u001b[0m | \u001b[0m 0.1281  \u001b[0m | \u001b[0m 99.46   \u001b[0m |\n",
      "| \u001b[0m 108     \u001b[0m | \u001b[0m-2.95e+04\u001b[0m | \u001b[0m 19.8    \u001b[0m | \u001b[0m 20.0    \u001b[0m | \u001b[0m 0.0     \u001b[0m | \u001b[0m 100.0   \u001b[0m |\n",
      "| \u001b[0m 109     \u001b[0m | \u001b[0m-2.908e+0\u001b[0m | \u001b[0m 17.01   \u001b[0m | \u001b[0m 20.0    \u001b[0m | \u001b[0m 0.08407 \u001b[0m | \u001b[0m 98.65   \u001b[0m |\n",
      "| \u001b[0m 110     \u001b[0m | \u001b[0m-2.905e+0\u001b[0m | \u001b[0m 17.93   \u001b[0m | \u001b[0m 18.06   \u001b[0m | \u001b[0m 0.6703  \u001b[0m | \u001b[0m 99.44   \u001b[0m |\n",
      "| \u001b[0m 111     \u001b[0m | \u001b[0m-2.941e+0\u001b[0m | \u001b[0m 25.0    \u001b[0m | \u001b[0m 10.0    \u001b[0m | \u001b[0m 0.0     \u001b[0m | \u001b[0m 80.0    \u001b[0m |\n",
      "| \u001b[0m 112     \u001b[0m | \u001b[0m-2.928e+0\u001b[0m | \u001b[0m 19.14   \u001b[0m | \u001b[0m 10.0    \u001b[0m | \u001b[0m 0.0     \u001b[0m | \u001b[0m 100.0   \u001b[0m |\n",
      "| \u001b[0m 113     \u001b[0m | \u001b[0m-2.883e+0\u001b[0m | \u001b[0m 13.7    \u001b[0m | \u001b[0m 18.17   \u001b[0m | \u001b[0m 0.9195  \u001b[0m | \u001b[0m 92.96   \u001b[0m |\n",
      "| \u001b[0m 114     \u001b[0m | \u001b[0m-2.887e+0\u001b[0m | \u001b[0m 13.06   \u001b[0m | \u001b[0m 19.1    \u001b[0m | \u001b[0m 0.93    \u001b[0m | \u001b[0m 93.48   \u001b[0m |\n",
      "| \u001b[0m 115     \u001b[0m | \u001b[0m-2.878e+0\u001b[0m | \u001b[0m 12.84   \u001b[0m | \u001b[0m 19.99   \u001b[0m | \u001b[0m 0.4258  \u001b[0m | \u001b[0m 91.65   \u001b[0m |\n",
      "| \u001b[0m 116     \u001b[0m | \u001b[0m-2.889e+0\u001b[0m | \u001b[0m 12.35   \u001b[0m | \u001b[0m 19.96   \u001b[0m | \u001b[0m 0.3574  \u001b[0m | \u001b[0m 89.73   \u001b[0m |\n",
      "| \u001b[0m 117     \u001b[0m | \u001b[0m-2.916e+0\u001b[0m | \u001b[0m 10.71   \u001b[0m | \u001b[0m 19.94   \u001b[0m | \u001b[0m 0.0938  \u001b[0m | \u001b[0m 88.5    \u001b[0m |\n",
      "| \u001b[0m 118     \u001b[0m | \u001b[0m-2.869e+0\u001b[0m | \u001b[0m 12.28   \u001b[0m | \u001b[0m 19.98   \u001b[0m | \u001b[0m 0.3843  \u001b[0m | \u001b[0m 99.26   \u001b[0m |\n",
      "| \u001b[0m 119     \u001b[0m | \u001b[0m-2.869e+0\u001b[0m | \u001b[0m 12.74   \u001b[0m | \u001b[0m 19.85   \u001b[0m | \u001b[0m 0.007808\u001b[0m | \u001b[0m 99.91   \u001b[0m |\n",
      "| \u001b[0m 120     \u001b[0m | \u001b[0m-2.891e+0\u001b[0m | \u001b[0m 13.21   \u001b[0m | \u001b[0m 19.26   \u001b[0m | \u001b[0m 0.9999  \u001b[0m | \u001b[0m 99.94   \u001b[0m |\n",
      "| \u001b[0m 121     \u001b[0m | \u001b[0m-2.914e+0\u001b[0m | \u001b[0m 11.59   \u001b[0m | \u001b[0m 19.63   \u001b[0m | \u001b[0m 0.07302 \u001b[0m | \u001b[0m 99.93   \u001b[0m |\n",
      "| \u001b[0m 122     \u001b[0m | \u001b[0m-2.87e+04\u001b[0m | \u001b[0m 12.73   \u001b[0m | \u001b[0m 19.19   \u001b[0m | \u001b[0m 0.02993 \u001b[0m | \u001b[0m 98.63   \u001b[0m |\n",
      "| \u001b[0m 123     \u001b[0m | \u001b[0m-2.872e+0\u001b[0m | \u001b[0m 12.47   \u001b[0m | \u001b[0m 19.88   \u001b[0m | \u001b[0m 0.5012  \u001b[0m | \u001b[0m 97.91   \u001b[0m |\n",
      "| \u001b[0m 124     \u001b[0m | \u001b[0m-2.915e+0\u001b[0m | \u001b[0m 11.48   \u001b[0m | \u001b[0m 19.24   \u001b[0m | \u001b[0m 0.9974  \u001b[0m | \u001b[0m 97.93   \u001b[0m |\n",
      "| \u001b[0m 125     \u001b[0m | \u001b[0m-2.892e+0\u001b[0m | \u001b[0m 13.28   \u001b[0m | \u001b[0m 18.95   \u001b[0m | \u001b[0m 0.01142 \u001b[0m | \u001b[0m 99.52   \u001b[0m |\n",
      "| \u001b[0m 126     \u001b[0m | \u001b[0m-2.877e+0\u001b[0m | \u001b[0m 12.26   \u001b[0m | \u001b[0m 19.89   \u001b[0m | \u001b[0m 0.0868  \u001b[0m | \u001b[0m 92.72   \u001b[0m |\n",
      "| \u001b[0m 127     \u001b[0m | \u001b[0m-2.859e+0\u001b[0m | \u001b[0m 24.86   \u001b[0m | \u001b[0m 14.87   \u001b[0m | \u001b[0m 0.4054  \u001b[0m | \u001b[0m 99.26   \u001b[0m |\n",
      "| \u001b[0m 128     \u001b[0m | \u001b[0m-2.873e+0\u001b[0m | \u001b[0m 25.0    \u001b[0m | \u001b[0m 14.04   \u001b[0m | \u001b[0m 1.0     \u001b[0m | \u001b[0m 99.6    \u001b[0m |\n",
      "| \u001b[0m 129     \u001b[0m | \u001b[0m-2.929e+0\u001b[0m | \u001b[0m 25.0    \u001b[0m | \u001b[0m 15.45   \u001b[0m | \u001b[0m 0.9673  \u001b[0m | \u001b[0m 100.0   \u001b[0m |\n",
      "| \u001b[0m 130     \u001b[0m | \u001b[0m-2.859e+0\u001b[0m | \u001b[0m 24.78   \u001b[0m | \u001b[0m 14.17   \u001b[0m | \u001b[0m 0.06212 \u001b[0m | \u001b[0m 98.69   \u001b[0m |\n",
      "| \u001b[0m 131     \u001b[0m | \u001b[0m-2.859e+0\u001b[0m | \u001b[0m 24.24   \u001b[0m | \u001b[0m 14.61   \u001b[0m | \u001b[0m 0.8034  \u001b[0m | \u001b[0m 98.56   \u001b[0m |\n",
      "| \u001b[0m 132     \u001b[0m | \u001b[0m-2.856e+0\u001b[0m | \u001b[0m 23.96   \u001b[0m | \u001b[0m 14.38   \u001b[0m | \u001b[0m 0.04263 \u001b[0m | \u001b[0m 99.34   \u001b[0m |\n",
      "| \u001b[0m 133     \u001b[0m | \u001b[0m-2.94e+04\u001b[0m | \u001b[0m 24.2    \u001b[0m | \u001b[0m 15.22   \u001b[0m | \u001b[0m 0.0     \u001b[0m | \u001b[0m 98.55   \u001b[0m |\n",
      "| \u001b[0m 134     \u001b[0m | \u001b[0m-2.923e+0\u001b[0m | \u001b[0m 24.12   \u001b[0m | \u001b[0m 13.81   \u001b[0m | \u001b[0m 0.6933  \u001b[0m | \u001b[0m 99.04   \u001b[0m |\n",
      "| \u001b[0m 135     \u001b[0m | \u001b[0m-2.858e+0\u001b[0m | \u001b[0m 24.97   \u001b[0m | \u001b[0m 14.6    \u001b[0m | \u001b[0m 0.8047  \u001b[0m | \u001b[0m 99.24   \u001b[0m |\n",
      "| \u001b[0m 136     \u001b[0m | \u001b[0m-2.858e+0\u001b[0m | \u001b[0m 24.78   \u001b[0m | \u001b[0m 14.14   \u001b[0m | \u001b[0m 0.1613  \u001b[0m | \u001b[0m 99.61   \u001b[0m |\n",
      "| \u001b[0m 137     \u001b[0m | \u001b[0m-2.859e+0\u001b[0m | \u001b[0m 24.91   \u001b[0m | \u001b[0m 14.74   \u001b[0m | \u001b[0m 0.8767  \u001b[0m | \u001b[0m 98.07   \u001b[0m |\n",
      "| \u001b[0m 138     \u001b[0m | \u001b[0m-2.856e+0\u001b[0m | \u001b[0m 23.63   \u001b[0m | \u001b[0m 14.27   \u001b[0m | \u001b[0m 0.1131  \u001b[0m | \u001b[0m 99.81   \u001b[0m |\n",
      "| \u001b[0m 139     \u001b[0m | \u001b[0m-2.917e+0\u001b[0m | \u001b[0m 24.85   \u001b[0m | \u001b[0m 13.76   \u001b[0m | \u001b[0m 0.8032  \u001b[0m | \u001b[0m 97.85   \u001b[0m |\n",
      "| \u001b[0m 140     \u001b[0m | \u001b[0m-2.859e+0\u001b[0m | \u001b[0m 24.31   \u001b[0m | \u001b[0m 14.65   \u001b[0m | \u001b[0m 0.3618  \u001b[0m | \u001b[0m 99.91   \u001b[0m |\n",
      "| \u001b[95m 141     \u001b[0m | \u001b[95m-2.845e+0\u001b[0m | \u001b[95m 22.75   \u001b[0m | \u001b[95m 14.43   \u001b[0m | \u001b[95m 0.3707  \u001b[0m | \u001b[95m 99.28   \u001b[0m |\n",
      "| \u001b[95m 142     \u001b[0m | \u001b[95m-2.845e+0\u001b[0m | \u001b[95m 22.77   \u001b[0m | \u001b[95m 14.8    \u001b[0m | \u001b[95m 0.02135 \u001b[0m | \u001b[95m 99.85   \u001b[0m |\n",
      "| \u001b[0m 143     \u001b[0m | \u001b[0m-2.845e+0\u001b[0m | \u001b[0m 22.42   \u001b[0m | \u001b[0m 14.24   \u001b[0m | \u001b[0m 0.198   \u001b[0m | \u001b[0m 99.91   \u001b[0m |\n",
      "| \u001b[0m 144     \u001b[0m | \u001b[0m-2.925e+0\u001b[0m | \u001b[0m 22.83   \u001b[0m | \u001b[0m 15.08   \u001b[0m | \u001b[0m 0.5595  \u001b[0m | \u001b[0m 99.81   \u001b[0m |\n",
      "| \u001b[95m 145     \u001b[0m | \u001b[95m-2.844e+0\u001b[0m | \u001b[95m 22.85   \u001b[0m | \u001b[95m 14.19   \u001b[0m | \u001b[95m 0.0     \u001b[0m | \u001b[95m 99.53   \u001b[0m |\n",
      "| \u001b[0m 146     \u001b[0m | \u001b[0m-2.844e+0\u001b[0m | \u001b[0m 22.23   \u001b[0m | \u001b[0m 14.53   \u001b[0m | \u001b[0m 0.0     \u001b[0m | \u001b[0m 99.35   \u001b[0m |\n",
      "| \u001b[0m 147     \u001b[0m | \u001b[0m-2.908e+0\u001b[0m | \u001b[0m 22.2    \u001b[0m | \u001b[0m 13.9    \u001b[0m | \u001b[0m 0.3868  \u001b[0m | \u001b[0m 99.11   \u001b[0m |\n",
      "| \u001b[0m 148     \u001b[0m | \u001b[0m-2.869e+0\u001b[0m | \u001b[0m 12.85   \u001b[0m | \u001b[0m 19.93   \u001b[0m | \u001b[0m 0.7621  \u001b[0m | \u001b[0m 99.26   \u001b[0m |\n",
      "| \u001b[0m 149     \u001b[0m | \u001b[0m-2.96e+04\u001b[0m | \u001b[0m 21.35   \u001b[0m | \u001b[0m 15.39   \u001b[0m | \u001b[0m 0.2309  \u001b[0m | \u001b[0m 99.81   \u001b[0m |\n",
      "| \u001b[0m 150     \u001b[0m | \u001b[0m-2.856e+0\u001b[0m | \u001b[0m 23.2    \u001b[0m | \u001b[0m 14.49   \u001b[0m | \u001b[0m 0.0109  \u001b[0m | \u001b[0m 99.33   \u001b[0m |\n",
      "| \u001b[0m 151     \u001b[0m | \u001b[0m-2.861e+0\u001b[0m | \u001b[0m 24.92   \u001b[0m | \u001b[0m 14.82   \u001b[0m | \u001b[0m 0.9327  \u001b[0m | \u001b[0m 98.62   \u001b[0m |\n",
      "| \u001b[0m 152     \u001b[0m | \u001b[0m-2.919e+0\u001b[0m | \u001b[0m 11.88   \u001b[0m | \u001b[0m 19.23   \u001b[0m | \u001b[0m 0.07981 \u001b[0m | \u001b[0m 94.02   \u001b[0m |\n",
      "| \u001b[0m 153     \u001b[0m | \u001b[0m-2.872e+0\u001b[0m | \u001b[0m 12.77   \u001b[0m | \u001b[0m 19.05   \u001b[0m | \u001b[0m 0.04917 \u001b[0m | \u001b[0m 97.76   \u001b[0m |\n",
      "| \u001b[0m 154     \u001b[0m | \u001b[0m-2.914e+0\u001b[0m | \u001b[0m 11.82   \u001b[0m | \u001b[0m 20.0    \u001b[0m | \u001b[0m 0.0     \u001b[0m | \u001b[0m 91.19   \u001b[0m |\n",
      "| \u001b[0m 155     \u001b[0m | \u001b[0m-2.856e+0\u001b[0m | \u001b[0m 23.07   \u001b[0m | \u001b[0m 14.19   \u001b[0m | \u001b[0m 0.003883\u001b[0m | \u001b[0m 99.96   \u001b[0m |\n",
      "| \u001b[0m 156     \u001b[0m | \u001b[0m-2.872e+0\u001b[0m | \u001b[0m 12.96   \u001b[0m | \u001b[0m 19.91   \u001b[0m | \u001b[0m 0.4315  \u001b[0m | \u001b[0m 97.25   \u001b[0m |\n",
      "| \u001b[0m 157     \u001b[0m | \u001b[0m-2.937e+0\u001b[0m | \u001b[0m 24.88   \u001b[0m | \u001b[0m 15.15   \u001b[0m | \u001b[0m 0.9654  \u001b[0m | \u001b[0m 96.93   \u001b[0m |\n",
      "| \u001b[0m 158     \u001b[0m | \u001b[0m-2.913e+0\u001b[0m | \u001b[0m 14.28   \u001b[0m | \u001b[0m 18.03   \u001b[0m | \u001b[0m 0.7987  \u001b[0m | \u001b[0m 94.11   \u001b[0m |\n",
      "| \u001b[0m 159     \u001b[0m | \u001b[0m-2.927e+0\u001b[0m | \u001b[0m 12.77   \u001b[0m | \u001b[0m 17.46   \u001b[0m | \u001b[0m 0.07643 \u001b[0m | \u001b[0m 98.25   \u001b[0m |\n",
      "| \u001b[0m 160     \u001b[0m | \u001b[0m-2.87e+04\u001b[0m | \u001b[0m 12.84   \u001b[0m | \u001b[0m 19.95   \u001b[0m | \u001b[0m 0.1335  \u001b[0m | \u001b[0m 98.81   \u001b[0m |\n",
      "| \u001b[0m 161     \u001b[0m | \u001b[0m-2.893e+0\u001b[0m | \u001b[0m 13.3    \u001b[0m | \u001b[0m 19.4    \u001b[0m | \u001b[0m 0.983   \u001b[0m | \u001b[0m 90.89   \u001b[0m |\n",
      "| \u001b[0m 162     \u001b[0m | \u001b[0m-2.853e+0\u001b[0m | \u001b[0m 15.37   \u001b[0m | \u001b[0m 18.67   \u001b[0m | \u001b[0m 0.8017  \u001b[0m | \u001b[0m 80.24   \u001b[0m |\n",
      "| \u001b[0m 163     \u001b[0m | \u001b[0m-2.883e+0\u001b[0m | \u001b[0m 13.16   \u001b[0m | \u001b[0m 18.12   \u001b[0m | \u001b[0m 0.33    \u001b[0m | \u001b[0m 92.24   \u001b[0m |\n",
      "| \u001b[0m 164     \u001b[0m | \u001b[0m-2.89e+04\u001b[0m | \u001b[0m 13.35   \u001b[0m | \u001b[0m 19.56   \u001b[0m | \u001b[0m 0.9955  \u001b[0m | \u001b[0m 97.53   \u001b[0m |\n",
      "| \u001b[0m 165     \u001b[0m | \u001b[0m-2.983e+0\u001b[0m | \u001b[0m 10.0    \u001b[0m | \u001b[0m 10.0    \u001b[0m | \u001b[0m 1.0     \u001b[0m | \u001b[0m 85.6    \u001b[0m |\n",
      "| \u001b[0m 166     \u001b[0m | \u001b[0m-2.904e+0\u001b[0m | \u001b[0m 15.63   \u001b[0m | \u001b[0m 19.01   \u001b[0m | \u001b[0m 0.02633 \u001b[0m | \u001b[0m 80.04   \u001b[0m |\n",
      "| \u001b[0m 167     \u001b[0m | \u001b[0m-2.909e+0\u001b[0m | \u001b[0m 14.94   \u001b[0m | \u001b[0m 18.14   \u001b[0m | \u001b[0m 0.918   \u001b[0m | \u001b[0m 80.02   \u001b[0m |\n",
      "| \u001b[0m 168     \u001b[0m | \u001b[0m-2.853e+0\u001b[0m | \u001b[0m 15.75   \u001b[0m | \u001b[0m 18.13   \u001b[0m | \u001b[0m 0.02219 \u001b[0m | \u001b[0m 80.51   \u001b[0m |\n",
      "| \u001b[95m 169     \u001b[0m | \u001b[95m-2.844e+0\u001b[0m | \u001b[95m 22.34   \u001b[0m | \u001b[95m 14.72   \u001b[0m | \u001b[95m 0.2479  \u001b[0m | \u001b[95m 98.64   \u001b[0m |\n",
      "| \u001b[95m 170     \u001b[0m | \u001b[95m-2.843e+0\u001b[0m | \u001b[95m 22.58   \u001b[0m | \u001b[95m 14.73   \u001b[0m | \u001b[95m 0.09646 \u001b[0m | \u001b[95m 97.92   \u001b[0m |\n",
      "| \u001b[0m 171     \u001b[0m | \u001b[0m-2.964e+0\u001b[0m | \u001b[0m 21.98   \u001b[0m | \u001b[0m 15.36   \u001b[0m | \u001b[0m 0.3448  \u001b[0m | \u001b[0m 97.86   \u001b[0m |\n",
      "| \u001b[0m 172     \u001b[0m | \u001b[0m-2.856e+0\u001b[0m | \u001b[0m 23.09   \u001b[0m | \u001b[0m 14.55   \u001b[0m | \u001b[0m 0.5981  \u001b[0m | \u001b[0m 98.69   \u001b[0m |\n",
      "| \u001b[0m 173     \u001b[0m | \u001b[0m-2.844e+0\u001b[0m | \u001b[0m 22.68   \u001b[0m | \u001b[0m 14.59   \u001b[0m | \u001b[0m 0.4372  \u001b[0m | \u001b[0m 98.17   \u001b[0m |\n",
      "| \u001b[0m 174     \u001b[0m | \u001b[0m-2.844e+0\u001b[0m | \u001b[0m 22.74   \u001b[0m | \u001b[0m 14.42   \u001b[0m | \u001b[0m 0.02986 \u001b[0m | \u001b[0m 98.45   \u001b[0m |\n",
      "| \u001b[0m 175     \u001b[0m | \u001b[0m-2.909e+0\u001b[0m | \u001b[0m 22.68   \u001b[0m | \u001b[0m 13.94   \u001b[0m | \u001b[0m 0.06073 \u001b[0m | \u001b[0m 97.66   \u001b[0m |\n",
      "| \u001b[0m 176     \u001b[0m | \u001b[0m-2.923e+0\u001b[0m | \u001b[0m 22.95   \u001b[0m | \u001b[0m 15.3    \u001b[0m | \u001b[0m 0.1521  \u001b[0m | \u001b[0m 98.32   \u001b[0m |\n",
      "| \u001b[0m 177     \u001b[0m | \u001b[0m-2.844e+0\u001b[0m | \u001b[0m 22.12   \u001b[0m | \u001b[0m 14.38   \u001b[0m | \u001b[0m 0.04509 \u001b[0m | \u001b[0m 98.05   \u001b[0m |\n",
      "| \u001b[0m 178     \u001b[0m | \u001b[0m-2.844e+0\u001b[0m | \u001b[0m 22.75   \u001b[0m | \u001b[0m 14.55   \u001b[0m | \u001b[0m 0.03358 \u001b[0m | \u001b[0m 98.83   \u001b[0m |\n",
      "| \u001b[0m 179     \u001b[0m | \u001b[0m-2.927e+0\u001b[0m | \u001b[0m 25.0    \u001b[0m | \u001b[0m 10.0    \u001b[0m | \u001b[0m 1.0     \u001b[0m | \u001b[0m 89.0    \u001b[0m |\n",
      "| \u001b[0m 180     \u001b[0m | \u001b[0m-2.915e+0\u001b[0m | \u001b[0m 25.0    \u001b[0m | \u001b[0m 20.0    \u001b[0m | \u001b[0m 0.0     \u001b[0m | \u001b[0m 80.0    \u001b[0m |\n",
      "| \u001b[0m 181     \u001b[0m | \u001b[0m-2.853e+0\u001b[0m | \u001b[0m 15.79   \u001b[0m | \u001b[0m 18.56   \u001b[0m | \u001b[0m 0.7099  \u001b[0m | \u001b[0m 80.36   \u001b[0m |\n",
      "| \u001b[0m 182     \u001b[0m | \u001b[0m-2.891e+0\u001b[0m | \u001b[0m 24.98   \u001b[0m | \u001b[0m 19.91   \u001b[0m | \u001b[0m 0.1936  \u001b[0m | \u001b[0m 93.81   \u001b[0m |\n",
      "| \u001b[0m 183     \u001b[0m | \u001b[0m-2.868e+0\u001b[0m | \u001b[0m 23.37   \u001b[0m | \u001b[0m 19.27   \u001b[0m | \u001b[0m 0.1689  \u001b[0m | \u001b[0m 94.63   \u001b[0m |\n",
      "| \u001b[0m 184     \u001b[0m | \u001b[0m-2.922e+0\u001b[0m | \u001b[0m 23.63   \u001b[0m | \u001b[0m 18.52   \u001b[0m | \u001b[0m 0.0     \u001b[0m | \u001b[0m 93.94   \u001b[0m |\n",
      "| \u001b[0m 185     \u001b[0m | \u001b[0m-2.885e+0\u001b[0m | \u001b[0m 23.23   \u001b[0m | \u001b[0m 20.0    \u001b[0m | \u001b[0m 0.3337  \u001b[0m | \u001b[0m 95.25   \u001b[0m |\n",
      "| \u001b[0m 186     \u001b[0m | \u001b[0m-2.89e+04\u001b[0m | \u001b[0m 22.78   \u001b[0m | \u001b[0m 18.79   \u001b[0m | \u001b[0m 0.3049  \u001b[0m | \u001b[0m 95.3    \u001b[0m |\n",
      "| \u001b[0m 187     \u001b[0m | \u001b[0m-2.845e+0\u001b[0m | \u001b[0m 22.69   \u001b[0m | \u001b[0m 14.63   \u001b[0m | \u001b[0m 0.04476 \u001b[0m | \u001b[0m 99.41   \u001b[0m |\n",
      "| \u001b[0m 188     \u001b[0m | \u001b[0m-2.887e+0\u001b[0m | \u001b[0m 24.1    \u001b[0m | \u001b[0m 19.4    \u001b[0m | \u001b[0m 0.9451  \u001b[0m | \u001b[0m 94.93   \u001b[0m |\n",
      "| \u001b[0m 189     \u001b[0m | \u001b[0m-2.895e+0\u001b[0m | \u001b[0m 22.57   \u001b[0m | \u001b[0m 19.96   \u001b[0m | \u001b[0m 0.3987  \u001b[0m | \u001b[0m 94.32   \u001b[0m |\n",
      "| \u001b[0m 190     \u001b[0m | \u001b[0m-2.888e+0\u001b[0m | \u001b[0m 24.67   \u001b[0m | \u001b[0m 19.63   \u001b[0m | \u001b[0m 0.05494 \u001b[0m | \u001b[0m 96.67   \u001b[0m |\n",
      "| \u001b[0m 191     \u001b[0m | \u001b[0m-2.865e+0\u001b[0m | \u001b[0m 23.11   \u001b[0m | \u001b[0m 19.72   \u001b[0m | \u001b[0m 0.0     \u001b[0m | \u001b[0m 97.06   \u001b[0m |\n",
      "| \u001b[0m 192     \u001b[0m | \u001b[0m-2.865e+0\u001b[0m | \u001b[0m 23.07   \u001b[0m | \u001b[0m 19.74   \u001b[0m | \u001b[0m 0.4877  \u001b[0m | \u001b[0m 97.98   \u001b[0m |\n",
      "| \u001b[0m 193     \u001b[0m | \u001b[0m-2.914e+0\u001b[0m | \u001b[0m 23.47   \u001b[0m | \u001b[0m 18.98   \u001b[0m | \u001b[0m 0.02639 \u001b[0m | \u001b[0m 97.68   \u001b[0m |\n",
      "| \u001b[0m 194     \u001b[0m | \u001b[0m-2.905e+0\u001b[0m | \u001b[0m 22.51   \u001b[0m | \u001b[0m 20.0    \u001b[0m | \u001b[0m 0.6894  \u001b[0m | \u001b[0m 97.27   \u001b[0m |\n",
      "| \u001b[0m 195     \u001b[0m | \u001b[0m-2.908e+0\u001b[0m | \u001b[0m 22.91   \u001b[0m | \u001b[0m 20.0    \u001b[0m | \u001b[0m 0.0     \u001b[0m | \u001b[0m 98.7    \u001b[0m |\n",
      "| \u001b[0m 196     \u001b[0m | \u001b[0m-2.881e+0\u001b[0m | \u001b[0m 23.75   \u001b[0m | \u001b[0m 20.0    \u001b[0m | \u001b[0m 0.6416  \u001b[0m | \u001b[0m 97.48   \u001b[0m |\n",
      "| \u001b[0m 197     \u001b[0m | \u001b[0m-2.844e+0\u001b[0m | \u001b[0m 22.39   \u001b[0m | \u001b[0m 14.74   \u001b[0m | \u001b[0m 0.02051 \u001b[0m | \u001b[0m 98.29   \u001b[0m |\n",
      "| \u001b[0m 198     \u001b[0m | \u001b[0m-2.91e+04\u001b[0m | \u001b[0m 24.31   \u001b[0m | \u001b[0m 18.68   \u001b[0m | \u001b[0m 0.04868 \u001b[0m | \u001b[0m 95.52   \u001b[0m |\n",
      "| \u001b[0m 199     \u001b[0m | \u001b[0m-2.899e+0\u001b[0m | \u001b[0m 25.0    \u001b[0m | \u001b[0m 20.0    \u001b[0m | \u001b[0m 1.0     \u001b[0m | \u001b[0m 98.6    \u001b[0m |\n",
      "| \u001b[0m 200     \u001b[0m | \u001b[0m-2.924e+0\u001b[0m | \u001b[0m 24.19   \u001b[0m | \u001b[0m 15.02   \u001b[0m | \u001b[0m 0.9349  \u001b[0m | \u001b[0m 80.11   \u001b[0m |\n",
      "| \u001b[0m 201     \u001b[0m | \u001b[0m-2.86e+04\u001b[0m | \u001b[0m 25.0    \u001b[0m | \u001b[0m 14.54   \u001b[0m | \u001b[0m 0.3456  \u001b[0m | \u001b[0m 98.65   \u001b[0m |\n",
      "| \u001b[0m 202     \u001b[0m | \u001b[0m-2.866e+0\u001b[0m | \u001b[0m 23.72   \u001b[0m | \u001b[0m 19.99   \u001b[0m | \u001b[0m 0.2093  \u001b[0m | \u001b[0m 96.33   \u001b[0m |\n",
      "| \u001b[0m 203     \u001b[0m | \u001b[0m-2.937e+0\u001b[0m | \u001b[0m 18.19   \u001b[0m | \u001b[0m 10.0    \u001b[0m | \u001b[0m 1.0     \u001b[0m | \u001b[0m 94.69   \u001b[0m |\n",
      "| \u001b[0m 204     \u001b[0m | \u001b[0m-2.907e+0\u001b[0m | \u001b[0m 10.0    \u001b[0m | \u001b[0m 20.0    \u001b[0m | \u001b[0m 1.0     \u001b[0m | \u001b[0m 83.16   \u001b[0m |\n",
      "| \u001b[0m 205     \u001b[0m | \u001b[0m-2.949e+0\u001b[0m | \u001b[0m 20.88   \u001b[0m | \u001b[0m 13.2    \u001b[0m | \u001b[0m 0.0     \u001b[0m | \u001b[0m 91.29   \u001b[0m |\n",
      "| \u001b[0m 206     \u001b[0m | \u001b[0m-2.899e+0\u001b[0m | \u001b[0m 24.93   \u001b[0m | \u001b[0m 19.71   \u001b[0m | \u001b[0m 0.7239  \u001b[0m | \u001b[0m 84.92   \u001b[0m |\n",
      "| \u001b[0m 207     \u001b[0m | \u001b[0m-2.864e+0\u001b[0m | \u001b[0m 23.47   \u001b[0m | \u001b[0m 19.53   \u001b[0m | \u001b[0m 0.9883  \u001b[0m | \u001b[0m 96.6    \u001b[0m |\n",
      "| \u001b[0m 208     \u001b[0m | \u001b[0m-2.89e+04\u001b[0m | \u001b[0m 22.62   \u001b[0m | \u001b[0m 18.81   \u001b[0m | \u001b[0m 0.9123  \u001b[0m | \u001b[0m 96.46   \u001b[0m |\n",
      "| \u001b[0m 209     \u001b[0m | \u001b[0m-2.927e+0\u001b[0m | \u001b[0m 22.54   \u001b[0m | \u001b[0m 10.05   \u001b[0m | \u001b[0m 0.6898  \u001b[0m | \u001b[0m 84.75   \u001b[0m |\n",
      "| \u001b[0m 210     \u001b[0m | \u001b[0m-2.895e+0\u001b[0m | \u001b[0m 22.53   \u001b[0m | \u001b[0m 19.11   \u001b[0m | \u001b[0m 0.9994  \u001b[0m | \u001b[0m 98.67   \u001b[0m |\n",
      "| \u001b[0m 211     \u001b[0m | \u001b[0m-2.886e+0\u001b[0m | \u001b[0m 24.47   \u001b[0m | \u001b[0m 19.79   \u001b[0m | \u001b[0m 0.8973  \u001b[0m | \u001b[0m 96.5    \u001b[0m |\n",
      "| \u001b[0m 212     \u001b[0m | \u001b[0m-2.891e+0\u001b[0m | \u001b[0m 22.95   \u001b[0m | \u001b[0m 19.3    \u001b[0m | \u001b[0m 0.1932  \u001b[0m | \u001b[0m 96.38   \u001b[0m |\n",
      "| \u001b[0m 213     \u001b[0m | \u001b[0m-2.98e+04\u001b[0m | \u001b[0m 10.0    \u001b[0m | \u001b[0m 10.0    \u001b[0m | \u001b[0m 0.0     \u001b[0m | \u001b[0m 80.0    \u001b[0m |\n",
      "| \u001b[0m 214     \u001b[0m | \u001b[0m-2.968e+0\u001b[0m | \u001b[0m 10.3    \u001b[0m | \u001b[0m 10.06   \u001b[0m | \u001b[0m 0.7974  \u001b[0m | \u001b[0m 97.34   \u001b[0m |\n",
      "| \u001b[0m 215     \u001b[0m | \u001b[0m-2.928e+0\u001b[0m | \u001b[0m 17.22   \u001b[0m | \u001b[0m 13.86   \u001b[0m | \u001b[0m 1.0     \u001b[0m | \u001b[0m 97.21   \u001b[0m |\n",
      "| \u001b[0m 216     \u001b[0m | \u001b[0m-2.966e+0\u001b[0m | \u001b[0m 10.04   \u001b[0m | \u001b[0m 15.28   \u001b[0m | \u001b[0m 0.6897  \u001b[0m | \u001b[0m 85.13   \u001b[0m |\n",
      "| \u001b[0m 217     \u001b[0m | \u001b[0m-2.861e+0\u001b[0m | \u001b[0m 24.83   \u001b[0m | \u001b[0m 14.35   \u001b[0m | \u001b[0m 0.9897  \u001b[0m | \u001b[0m 92.38   \u001b[0m |\n",
      "| \u001b[0m 218     \u001b[0m | \u001b[0m-2.873e+0\u001b[0m | \u001b[0m 25.0    \u001b[0m | \u001b[0m 14.19   \u001b[0m | \u001b[0m 1.0     \u001b[0m | \u001b[0m 91.43   \u001b[0m |\n",
      "| \u001b[0m 219     \u001b[0m | \u001b[0m-2.861e+0\u001b[0m | \u001b[0m 24.11   \u001b[0m | \u001b[0m 14.84   \u001b[0m | \u001b[0m 0.681   \u001b[0m | \u001b[0m 91.97   \u001b[0m |\n",
      "| \u001b[0m 220     \u001b[0m | \u001b[0m-2.859e+0\u001b[0m | \u001b[0m 24.93   \u001b[0m | \u001b[0m 14.77   \u001b[0m | \u001b[0m 0.1068  \u001b[0m | \u001b[0m 92.13   \u001b[0m |\n",
      "| \u001b[0m 221     \u001b[0m | \u001b[0m-2.935e+0\u001b[0m | \u001b[0m 24.99   \u001b[0m | \u001b[0m 15.37   \u001b[0m | \u001b[0m 0.8659  \u001b[0m | \u001b[0m 92.53   \u001b[0m |\n",
      "| \u001b[0m 222     \u001b[0m | \u001b[0m-2.912e+0\u001b[0m | \u001b[0m 24.07   \u001b[0m | \u001b[0m 13.9    \u001b[0m | \u001b[0m 0.439   \u001b[0m | \u001b[0m 91.94   \u001b[0m |\n",
      "| \u001b[0m 223     \u001b[0m | \u001b[0m-2.927e+0\u001b[0m | \u001b[0m 23.61   \u001b[0m | \u001b[0m 15.31   \u001b[0m | \u001b[0m 0.7272  \u001b[0m | \u001b[0m 91.32   \u001b[0m |\n",
      "| \u001b[0m 224     \u001b[0m | \u001b[0m-2.859e+0\u001b[0m | \u001b[0m 24.53   \u001b[0m | \u001b[0m 14.67   \u001b[0m | \u001b[0m 0.07302 \u001b[0m | \u001b[0m 93.05   \u001b[0m |\n",
      "| \u001b[0m 225     \u001b[0m | \u001b[0m-2.926e+0\u001b[0m | \u001b[0m 23.92   \u001b[0m | \u001b[0m 15.24   \u001b[0m | \u001b[0m 0.04927 \u001b[0m | \u001b[0m 92.62   \u001b[0m |\n",
      "| \u001b[0m 226     \u001b[0m | \u001b[0m-2.86e+04\u001b[0m | \u001b[0m 24.82   \u001b[0m | \u001b[0m 14.2    \u001b[0m | \u001b[0m 0.5013  \u001b[0m | \u001b[0m 93.37   \u001b[0m |\n",
      "| \u001b[0m 227     \u001b[0m | \u001b[0m-2.859e+0\u001b[0m | \u001b[0m 24.89   \u001b[0m | \u001b[0m 14.48   \u001b[0m | \u001b[0m 0.03647 \u001b[0m | \u001b[0m 92.78   \u001b[0m |\n",
      "| \u001b[0m 228     \u001b[0m | \u001b[0m-2.86e+04\u001b[0m | \u001b[0m 24.88   \u001b[0m | \u001b[0m 14.63   \u001b[0m | \u001b[0m 0.0183  \u001b[0m | \u001b[0m 94.33   \u001b[0m |\n",
      "| \u001b[0m 229     \u001b[0m | \u001b[0m-2.859e+0\u001b[0m | \u001b[0m 24.25   \u001b[0m | \u001b[0m 14.1    \u001b[0m | \u001b[0m 0.0     \u001b[0m | \u001b[0m 93.87   \u001b[0m |\n",
      "| \u001b[0m 230     \u001b[0m | \u001b[0m-2.861e+0\u001b[0m | \u001b[0m 24.18   \u001b[0m | \u001b[0m 14.19   \u001b[0m | \u001b[0m 0.8938  \u001b[0m | \u001b[0m 94.33   \u001b[0m |\n",
      "| \u001b[0m 231     \u001b[0m | \u001b[0m-2.913e+0\u001b[0m | \u001b[0m 24.68   \u001b[0m | \u001b[0m 13.42   \u001b[0m | \u001b[0m 0.2816  \u001b[0m | \u001b[0m 94.46   \u001b[0m |\n",
      "| \u001b[0m 232     \u001b[0m | \u001b[0m-2.929e+0\u001b[0m | \u001b[0m 23.83   \u001b[0m | \u001b[0m 15.11   \u001b[0m | \u001b[0m 0.9128  \u001b[0m | \u001b[0m 94.35   \u001b[0m |\n",
      "| \u001b[0m 233     \u001b[0m | \u001b[0m-2.861e+0\u001b[0m | \u001b[0m 24.25   \u001b[0m | \u001b[0m 14.29   \u001b[0m | \u001b[0m 0.9944  \u001b[0m | \u001b[0m 92.97   \u001b[0m |\n",
      "| \u001b[0m 234     \u001b[0m | \u001b[0m-2.915e+0\u001b[0m | \u001b[0m 23.37   \u001b[0m | \u001b[0m 13.37   \u001b[0m | \u001b[0m 0.762   \u001b[0m | \u001b[0m 94.11   \u001b[0m |\n",
      "| \u001b[0m 235     \u001b[0m | \u001b[0m-2.856e+0\u001b[0m | \u001b[0m 24.73   \u001b[0m | \u001b[0m 14.37   \u001b[0m | \u001b[0m 0.261   \u001b[0m | \u001b[0m 90.4    \u001b[0m |\n",
      "| \u001b[0m 236     \u001b[0m | \u001b[0m-2.935e+0\u001b[0m | \u001b[0m 24.95   \u001b[0m | \u001b[0m 15.1    \u001b[0m | \u001b[0m 0.4849  \u001b[0m | \u001b[0m 89.9    \u001b[0m |\n",
      "| \u001b[0m 237     \u001b[0m | \u001b[0m-2.912e+0\u001b[0m | \u001b[0m 24.91   \u001b[0m | \u001b[0m 13.3    \u001b[0m | \u001b[0m 0.2908  \u001b[0m | \u001b[0m 89.98   \u001b[0m |\n",
      "| \u001b[0m 238     \u001b[0m | \u001b[0m-2.861e+0\u001b[0m | \u001b[0m 24.62   \u001b[0m | \u001b[0m 14.94   \u001b[0m | \u001b[0m 0.6089  \u001b[0m | \u001b[0m 91.26   \u001b[0m |\n",
      "| \u001b[0m 239     \u001b[0m | \u001b[0m-2.861e+0\u001b[0m | \u001b[0m 24.54   \u001b[0m | \u001b[0m 14.36   \u001b[0m | \u001b[0m 0.1977  \u001b[0m | \u001b[0m 91.36   \u001b[0m |\n",
      "| \u001b[0m 240     \u001b[0m | \u001b[0m-2.861e+0\u001b[0m | \u001b[0m 24.36   \u001b[0m | \u001b[0m 14.05   \u001b[0m | \u001b[0m 0.9764  \u001b[0m | \u001b[0m 93.54   \u001b[0m |\n",
      "| \u001b[0m 241     \u001b[0m | \u001b[0m-2.856e+0\u001b[0m | \u001b[0m 24.52   \u001b[0m | \u001b[0m 14.33   \u001b[0m | \u001b[0m 0.8382  \u001b[0m | \u001b[0m 90.72   \u001b[0m |\n",
      "| \u001b[0m 242     \u001b[0m | \u001b[0m-2.927e+0\u001b[0m | \u001b[0m 25.0    \u001b[0m | \u001b[0m 10.0    \u001b[0m | \u001b[0m 1.0     \u001b[0m | \u001b[0m 100.0   \u001b[0m |\n",
      "| \u001b[0m 243     \u001b[0m | \u001b[0m-2.861e+0\u001b[0m | \u001b[0m 25.0    \u001b[0m | \u001b[0m 14.41   \u001b[0m | \u001b[0m 0.8521  \u001b[0m | \u001b[0m 94.48   \u001b[0m |\n",
      "| \u001b[0m 244     \u001b[0m | \u001b[0m-2.851e+0\u001b[0m | \u001b[0m 23.64   \u001b[0m | \u001b[0m 14.41   \u001b[0m | \u001b[0m 0.2165  \u001b[0m | \u001b[0m 90.07   \u001b[0m |\n",
      "| \u001b[0m 245     \u001b[0m | \u001b[0m-2.855e+0\u001b[0m | \u001b[0m 24.06   \u001b[0m | \u001b[0m 14.16   \u001b[0m | \u001b[0m 0.0     \u001b[0m | \u001b[0m 90.54   \u001b[0m |\n",
      "| \u001b[0m 246     \u001b[0m | \u001b[0m-2.915e+0\u001b[0m | \u001b[0m 23.67   \u001b[0m | \u001b[0m 13.92   \u001b[0m | \u001b[0m 0.8395  \u001b[0m | \u001b[0m 90.12   \u001b[0m |\n",
      "| \u001b[95m 247     \u001b[0m | \u001b[95m-2.836e+0\u001b[0m | \u001b[95m 22.8    \u001b[0m | \u001b[95m 14.65   \u001b[0m | \u001b[95m 0.3069  \u001b[0m | \u001b[95m 89.92   \u001b[0m |\n",
      "| \u001b[0m 248     \u001b[0m | \u001b[0m-2.85e+04\u001b[0m | \u001b[0m 23.1    \u001b[0m | \u001b[0m 14.78   \u001b[0m | \u001b[0m 0.0     \u001b[0m | \u001b[0m 89.46   \u001b[0m |\n",
      "| \u001b[95m 249     \u001b[0m | \u001b[95m-2.835e+0\u001b[0m | \u001b[95m 22.77   \u001b[0m | \u001b[95m 14.14   \u001b[0m | \u001b[95m 0.0     \u001b[0m | \u001b[95m 89.82   \u001b[0m |\n",
      "| \u001b[0m 250     \u001b[0m | \u001b[0m-2.92e+04\u001b[0m | \u001b[0m 22.32   \u001b[0m | \u001b[0m 15.03   \u001b[0m | \u001b[0m 0.07138 \u001b[0m | \u001b[0m 89.74   \u001b[0m |\n",
      "| \u001b[0m 251     \u001b[0m | \u001b[0m-2.85e+04\u001b[0m | \u001b[0m 23.13   \u001b[0m | \u001b[0m 14.58   \u001b[0m | \u001b[0m 0.5024  \u001b[0m | \u001b[0m 89.17   \u001b[0m |\n",
      "| \u001b[0m 252     \u001b[0m | \u001b[0m-2.836e+0\u001b[0m | \u001b[0m 22.73   \u001b[0m | \u001b[0m 14.18   \u001b[0m | \u001b[0m 0.5437  \u001b[0m | \u001b[0m 89.63   \u001b[0m |\n",
      "| \u001b[0m 253     \u001b[0m | \u001b[0m-2.85e+04\u001b[0m | \u001b[0m 23.24   \u001b[0m | \u001b[0m 14.07   \u001b[0m | \u001b[0m 0.0     \u001b[0m | \u001b[0m 89.4    \u001b[0m |\n",
      "| \u001b[0m 254     \u001b[0m | \u001b[0m-2.914e+0\u001b[0m | \u001b[0m 21.99   \u001b[0m | \u001b[0m 13.75   \u001b[0m | \u001b[0m 0.341   \u001b[0m | \u001b[0m 89.29   \u001b[0m |\n",
      "| \u001b[0m 255     \u001b[0m | \u001b[0m-2.84e+04\u001b[0m | \u001b[0m 22.8    \u001b[0m | \u001b[0m 14.36   \u001b[0m | \u001b[0m 0.4114  \u001b[0m | \u001b[0m 90.29   \u001b[0m |\n",
      "| \u001b[0m 256     \u001b[0m | \u001b[0m-2.908e+0\u001b[0m | \u001b[0m 22.86   \u001b[0m | \u001b[0m 13.51   \u001b[0m | \u001b[0m 0.06174 \u001b[0m | \u001b[0m 90.37   \u001b[0m |\n",
      "| \u001b[0m 257     \u001b[0m | \u001b[0m-2.852e+0\u001b[0m | \u001b[0m 23.11   \u001b[0m | \u001b[0m 14.57   \u001b[0m | \u001b[0m 0.001069\u001b[0m | \u001b[0m 88.48   \u001b[0m |\n",
      "| \u001b[0m 258     \u001b[0m | \u001b[0m-2.853e+0\u001b[0m | \u001b[0m 23.87   \u001b[0m | \u001b[0m 14.3    \u001b[0m | \u001b[0m 0.0     \u001b[0m | \u001b[0m 88.17   \u001b[0m |\n",
      "| \u001b[0m 259     \u001b[0m | \u001b[0m-2.918e+0\u001b[0m | \u001b[0m 23.23   \u001b[0m | \u001b[0m 13.78   \u001b[0m | \u001b[0m 0.0     \u001b[0m | \u001b[0m 87.93   \u001b[0m |\n",
      "| \u001b[0m 260     \u001b[0m | \u001b[0m-2.853e+0\u001b[0m | \u001b[0m 23.8    \u001b[0m | \u001b[0m 14.97   \u001b[0m | \u001b[0m 0.0     \u001b[0m | \u001b[0m 88.56   \u001b[0m |\n",
      "| \u001b[0m 261     \u001b[0m | \u001b[0m-2.852e+0\u001b[0m | \u001b[0m 23.84   \u001b[0m | \u001b[0m 14.8    \u001b[0m | \u001b[0m 0.7077  \u001b[0m | \u001b[0m 88.22   \u001b[0m |\n",
      "| \u001b[0m 262     \u001b[0m | \u001b[0m-2.933e+0\u001b[0m | \u001b[0m 24.01   \u001b[0m | \u001b[0m 15.45   \u001b[0m | \u001b[0m 0.2949  \u001b[0m | \u001b[0m 87.59   \u001b[0m |\n",
      "| \u001b[0m 263     \u001b[0m | \u001b[0m-2.849e+0\u001b[0m | \u001b[0m 23.52   \u001b[0m | \u001b[0m 14.67   \u001b[0m | \u001b[0m 0.1701  \u001b[0m | \u001b[0m 89.08   \u001b[0m |\n",
      "| \u001b[0m 264     \u001b[0m | \u001b[0m-2.858e+0\u001b[0m | \u001b[0m 24.83   \u001b[0m | \u001b[0m 14.17   \u001b[0m | \u001b[0m 0.3443  \u001b[0m | \u001b[0m 88.34   \u001b[0m |\n",
      "| \u001b[0m 265     \u001b[0m | \u001b[0m-2.857e+0\u001b[0m | \u001b[0m 24.37   \u001b[0m | \u001b[0m 14.5    \u001b[0m | \u001b[0m 0.898   \u001b[0m | \u001b[0m 88.49   \u001b[0m |\n",
      "| \u001b[0m 266     \u001b[0m | \u001b[0m-2.909e+0\u001b[0m | \u001b[0m 24.65   \u001b[0m | \u001b[0m 13.69   \u001b[0m | \u001b[0m 0.3106  \u001b[0m | \u001b[0m 87.35   \u001b[0m |\n",
      "| \u001b[0m 267     \u001b[0m | \u001b[0m-2.841e+0\u001b[0m | \u001b[0m 22.86   \u001b[0m | \u001b[0m 14.78   \u001b[0m | \u001b[0m 0.9396  \u001b[0m | \u001b[0m 88.5    \u001b[0m |\n",
      "| \u001b[0m 268     \u001b[0m | \u001b[0m-2.852e+0\u001b[0m | \u001b[0m 23.24   \u001b[0m | \u001b[0m 14.61   \u001b[0m | \u001b[0m 0.8546  \u001b[0m | \u001b[0m 88.18   \u001b[0m |\n",
      "| \u001b[0m 269     \u001b[0m | \u001b[0m-2.841e+0\u001b[0m | \u001b[0m 22.77   \u001b[0m | \u001b[0m 14.62   \u001b[0m | \u001b[0m 0.9389  \u001b[0m | \u001b[0m 90.12   \u001b[0m |\n",
      "| \u001b[0m 270     \u001b[0m | \u001b[0m-2.93e+04\u001b[0m | \u001b[0m 23.3    \u001b[0m | \u001b[0m 15.33   \u001b[0m | \u001b[0m 0.912   \u001b[0m | \u001b[0m 88.89   \u001b[0m |\n",
      "| \u001b[0m 271     \u001b[0m | \u001b[0m-2.84e+04\u001b[0m | \u001b[0m 22.53   \u001b[0m | \u001b[0m 14.24   \u001b[0m | \u001b[0m 0.797   \u001b[0m | \u001b[0m 88.73   \u001b[0m |\n",
      "| \u001b[0m 272     \u001b[0m | \u001b[0m-2.905e+0\u001b[0m | \u001b[0m 21.9    \u001b[0m | \u001b[0m 14.54   \u001b[0m | \u001b[0m 0.5857  \u001b[0m | \u001b[0m 87.91   \u001b[0m |\n",
      "| \u001b[0m 273     \u001b[0m | \u001b[0m-2.852e+0\u001b[0m | \u001b[0m 23.74   \u001b[0m | \u001b[0m 14.29   \u001b[0m | \u001b[0m 0.86    \u001b[0m | \u001b[0m 88.47   \u001b[0m |\n",
      "| \u001b[0m 274     \u001b[0m | \u001b[0m-2.837e+0\u001b[0m | \u001b[0m 22.28   \u001b[0m | \u001b[0m 14.62   \u001b[0m | \u001b[0m 0.9523  \u001b[0m | \u001b[0m 89.16   \u001b[0m |\n",
      "| \u001b[0m 275     \u001b[0m | \u001b[0m-2.908e+0\u001b[0m | \u001b[0m 24.15   \u001b[0m | \u001b[0m 13.91   \u001b[0m | \u001b[0m 0.05677 \u001b[0m | \u001b[0m 88.88   \u001b[0m |\n",
      "| \u001b[0m 276     \u001b[0m | \u001b[0m-2.858e+0\u001b[0m | \u001b[0m 24.76   \u001b[0m | \u001b[0m 14.84   \u001b[0m | \u001b[0m 0.3275  \u001b[0m | \u001b[0m 88.16   \u001b[0m |\n",
      "| \u001b[0m 277     \u001b[0m | \u001b[0m-2.836e+0\u001b[0m | \u001b[0m 22.96   \u001b[0m | \u001b[0m 14.25   \u001b[0m | \u001b[0m 0.4754  \u001b[0m | \u001b[0m 89.87   \u001b[0m |\n",
      "| \u001b[0m 278     \u001b[0m | \u001b[0m-2.939e+0\u001b[0m | \u001b[0m 15.1    \u001b[0m | \u001b[0m 10.0    \u001b[0m | \u001b[0m 0.0     \u001b[0m | \u001b[0m 98.37   \u001b[0m |\n",
      "| \u001b[0m 279     \u001b[0m | \u001b[0m-2.836e+0\u001b[0m | \u001b[0m 22.84   \u001b[0m | \u001b[0m 14.38   \u001b[0m | \u001b[0m 0.8515  \u001b[0m | \u001b[0m 89.17   \u001b[0m |\n",
      "| \u001b[0m 280     \u001b[0m | \u001b[0m-2.971e+0\u001b[0m | \u001b[0m 10.0    \u001b[0m | \u001b[0m 17.82   \u001b[0m | \u001b[0m 0.0     \u001b[0m | \u001b[0m 80.0    \u001b[0m |\n",
      "| \u001b[0m 281     \u001b[0m | \u001b[0m-2.982e+0\u001b[0m | \u001b[0m 10.0    \u001b[0m | \u001b[0m 10.0    \u001b[0m | \u001b[0m 1.0     \u001b[0m | \u001b[0m 89.99   \u001b[0m |\n",
      "| \u001b[0m 282     \u001b[0m | \u001b[0m-2.97e+04\u001b[0m | \u001b[0m 13.98   \u001b[0m | \u001b[0m 10.21   \u001b[0m | \u001b[0m 0.0337  \u001b[0m | \u001b[0m 84.75   \u001b[0m |\n",
      "| \u001b[0m 283     \u001b[0m | \u001b[0m-2.849e+0\u001b[0m | \u001b[0m 23.02   \u001b[0m | \u001b[0m 14.42   \u001b[0m | \u001b[0m 0.0763  \u001b[0m | \u001b[0m 89.95   \u001b[0m |\n",
      "| \u001b[0m 284     \u001b[0m | \u001b[0m-2.968e+0\u001b[0m | \u001b[0m 21.22   \u001b[0m | \u001b[0m 20.0    \u001b[0m | \u001b[0m 1.0     \u001b[0m | \u001b[0m 80.0    \u001b[0m |\n",
      "| \u001b[0m 285     \u001b[0m | \u001b[0m-2.905e+0\u001b[0m | \u001b[0m 21.91   \u001b[0m | \u001b[0m 14.42   \u001b[0m | \u001b[0m 0.9744  \u001b[0m | \u001b[0m 90.57   \u001b[0m |\n",
      "| \u001b[0m 286     \u001b[0m | \u001b[0m-2.951e+0\u001b[0m | \u001b[0m 21.38   \u001b[0m | \u001b[0m 12.03   \u001b[0m | \u001b[0m 1.0     \u001b[0m | \u001b[0m 80.0    \u001b[0m |\n",
      "| \u001b[0m 287     \u001b[0m | \u001b[0m-2.872e+0\u001b[0m | \u001b[0m 25.0    \u001b[0m | \u001b[0m 16.98   \u001b[0m | \u001b[0m 0.0     \u001b[0m | \u001b[0m 83.25   \u001b[0m |\n",
      "| \u001b[0m 288     \u001b[0m | \u001b[0m-2.948e+0\u001b[0m | \u001b[0m 24.54   \u001b[0m | \u001b[0m 17.98   \u001b[0m | \u001b[0m 0.3718  \u001b[0m | \u001b[0m 82.82   \u001b[0m |\n",
      "| \u001b[0m 289     \u001b[0m | \u001b[0m-2.909e+0\u001b[0m | \u001b[0m 25.0    \u001b[0m | \u001b[0m 15.89   \u001b[0m | \u001b[0m 0.0     \u001b[0m | \u001b[0m 83.67   \u001b[0m |\n",
      "| \u001b[0m 290     \u001b[0m | \u001b[0m-2.971e+0\u001b[0m | \u001b[0m 20.52   \u001b[0m | \u001b[0m 10.0    \u001b[0m | \u001b[0m 0.0     \u001b[0m | \u001b[0m 88.21   \u001b[0m |\n",
      "| \u001b[0m 291     \u001b[0m | \u001b[0m-2.938e+0\u001b[0m | \u001b[0m 10.0    \u001b[0m | \u001b[0m 14.77   \u001b[0m | \u001b[0m 1.0     \u001b[0m | \u001b[0m 89.34   \u001b[0m |\n",
      "| \u001b[0m 292     \u001b[0m | \u001b[0m-2.934e+0\u001b[0m | \u001b[0m 10.13   \u001b[0m | \u001b[0m 14.54   \u001b[0m | \u001b[0m 0.3669  \u001b[0m | \u001b[0m 95.81   \u001b[0m |\n",
      "| \u001b[0m 293     \u001b[0m | \u001b[0m-2.976e+0\u001b[0m | \u001b[0m 19.17   \u001b[0m | \u001b[0m 15.27   \u001b[0m | \u001b[0m 0.0     \u001b[0m | \u001b[0m 94.48   \u001b[0m |\n",
      "| \u001b[0m 294     \u001b[0m | \u001b[0m-2.965e+0\u001b[0m | \u001b[0m 25.0    \u001b[0m | \u001b[0m 12.26   \u001b[0m | \u001b[0m 0.0     \u001b[0m | \u001b[0m 83.29   \u001b[0m |\n",
      "| \u001b[0m 295     \u001b[0m | \u001b[0m-2.888e+0\u001b[0m | \u001b[0m 24.84   \u001b[0m | \u001b[0m 19.87   \u001b[0m | \u001b[0m 0.8937  \u001b[0m | \u001b[0m 90.86   \u001b[0m |\n",
      "| \u001b[0m 296     \u001b[0m | \u001b[0m-2.961e+0\u001b[0m | \u001b[0m 13.87   \u001b[0m | \u001b[0m 10.0    \u001b[0m | \u001b[0m 1.0     \u001b[0m | \u001b[0m 94.86   \u001b[0m |\n",
      "| \u001b[0m 297     \u001b[0m | \u001b[0m-2.895e+0\u001b[0m | \u001b[0m 22.89   \u001b[0m | \u001b[0m 19.95   \u001b[0m | \u001b[0m 0.6566  \u001b[0m | \u001b[0m 91.44   \u001b[0m |\n",
      "| \u001b[0m 298     \u001b[0m | \u001b[0m-2.975e+0\u001b[0m | \u001b[0m 10.13   \u001b[0m | \u001b[0m 13.87   \u001b[0m | \u001b[0m 0.9502  \u001b[0m | \u001b[0m 81.74   \u001b[0m |\n",
      "| \u001b[0m 299     \u001b[0m | \u001b[0m-2.946e+0\u001b[0m | \u001b[0m 16.58   \u001b[0m | \u001b[0m 15.55   \u001b[0m | \u001b[0m 0.01365 \u001b[0m | \u001b[0m 99.89   \u001b[0m |\n",
      "| \u001b[0m 300     \u001b[0m | \u001b[0m-2.888e+0\u001b[0m | \u001b[0m 24.79   \u001b[0m | \u001b[0m 19.88   \u001b[0m | \u001b[0m 0.8136  \u001b[0m | \u001b[0m 88.76   \u001b[0m |\n",
      "=========================================================================\n",
      "\n",
      " \n",
      " best params:  {'max_depth': 22.76987255830374, 'max_features': 14.139404019924546, 'min_impurity_decrease': 0.0, 'n_estimators': 89.82134842869006} \n",
      " \n",
      " best cvscore:  -28346.672687223065\n",
      "It takes 2.107581957181295 minutes\n",
      "\n",
      " \n",
      " validation_score:  -28346.672687223065\n"
     ]
    }
   ],
   "source": [
    "start = time.time()\n",
    "params_best, score_best = param_bayes_opt(20,280) #初始看20个观测值，后面迭代280次\n",
    "print('It takes %s minutes' % ((time.time() - start)/60))\n",
    "validation_score = bayes_opt_validation(params_best)\n",
    "print(\"\\n\",\"\\n\",\"validation_score: \",validation_score)"
   ]
  },
  {
   "cell_type": "markdown",
   "id": "e312350a-c7c6-4c82-8285-4dde59be5356",
   "metadata": {},
   "source": [
    "|HPO方法|默认参数|网格搜索|随机搜索|随机搜索<br>(大空间)|随机搜索<br>(连续型)|贝叶斯优化<br>(基于GP)|\n",
    "|:-:|:-:|:-:|:-:|:-:|:-:|:-:|\n",
    "|搜索空间/全域空间|-|1536/1536|800/1536|1536/3000|1536/无限|300/无限|\n",
    "|运行时间（分钟）|-|6.36|<font color=\"green\">**2.83(↓)**</font>|<font color=\"green\">**3.86(↓)**</font>|3.92|<font color=\"green\">**2.11(↓)**|\n",
    "|搜索最优（RMSE）|30571.266|29179.698|29251.284|<font color=\"green\">**29012.905(↓)**</font>|29148.381|<font color=\"green\">**28346.673(↓)**</font>|\n",
    "|重建最优（RMSE）|-|28572.070|<font color=\"brown\">**28639.969(↑)**</font>|<font color=\"green\">**28346.673(↓)**</font>|28495.682|<font color=\"green\">**28346.673(↓)**</font>|"
   ]
  },
  {
   "cell_type": "markdown",
   "id": "890c1fe5-92eb-4534-8ea3-7a7ed7e9b823",
   "metadata": {},
   "source": [
    "- 原理上有优越性\n",
    "\n",
    "可以看到，基于高斯过程的贝叶斯优化在2.11分钟内锁定了最佳分数28346.673，这是之前使用随机搜索时获得的最佳分数，很可能也是我们当前超参数空间上可以获得的最佳分数。贝叶斯优化作为从原理上高于网格优化的HPO方法，能够以更短的时间获得与随机网格搜索相同的结果，可见其原理上的优越性。\n",
    "\n",
    "- 优化过程无法复现，但优化结果可以复现\n",
    "\n",
    "但同时要注意，由于贝叶斯优化每次都是随机的，因此我们并不能在多次运行代码时复现出28346.673这个结果，事实上如果我们重复运行，也只有很小的概率可以再次找到这个最低值（这一点对于随机搜索来说也是类似的，如果不规定随机数种子，我们也无法复现最低值）。因此我们在执行贝叶斯优化时，往往会多运行几次观察模型找出的结果。同时，验证分数与目标函数最后输出的分数一模一样，可见最终输出的超参数组合的效力是可以复现的。\n",
    "\n",
    "- 效率不足\n",
    "\n",
    "不难发现，bayes_opt的速度虽然快，效率却不高。实际上在迭代到170次时，贝叶斯优化就已经找到了最小损失，但由于没有提前停止机制，模型还持续地迭代了130次才停下，如果bayes_opt支持提前停止机制，贝叶斯优化所需的实际迭代时间可能会更少。同时，由于Bayes_opt只能够在参数空间提取浮点数，bayes_opt在随机森林上的搜索效率是较低的，即便在10次不同的迭代中分别取到了[88.89, 88.23, 88.16, 88.59……]等值，在取整之后也只能够获得一个备选值88，但bayes_opt无法辨别这种区别，因此可能取出了众多无效的观测点。如果使用其他贝叶斯优化器，贝叶斯优化的效率将会更高。\n",
    "\n",
    "- 支持灵活修改\n",
    "\n",
    "虽然在我们的代码中没有体现，但bayes_opt是支持灵活修改采集函数与高斯过程中的种种参数的，具体可以参考这里：https://github.com/fmfn/BayesianOptimization/blob/master/examples/advanced-tour.ipynb"
   ]
  }
 ],
 "metadata": {
  "kernelspec": {
   "display_name": "Python 3 (ipykernel)",
   "language": "python",
   "name": "python3"
  },
  "language_info": {
   "codemirror_mode": {
    "name": "ipython",
    "version": 3
   },
   "file_extension": ".py",
   "mimetype": "text/x-python",
   "name": "python",
   "nbconvert_exporter": "python",
   "pygments_lexer": "ipython3",
   "version": "3.9.7"
  }
 },
 "nbformat": 4,
 "nbformat_minor": 5
}
