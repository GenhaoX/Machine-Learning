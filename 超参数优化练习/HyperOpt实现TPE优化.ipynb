{
 "cells": [
  {
   "cell_type": "code",
   "execution_count": 1,
   "id": "ece3d47a-5c9c-4991-a65f-05d274f7462b",
   "metadata": {},
   "outputs": [],
   "source": [
    "import numpy as np\n",
    "import pandas as pd\n",
    "import sklearn\n",
    "import matplotlib as mlp\n",
    "import matplotlib.pyplot as plt\n",
    "import seaborn as sns\n",
    "import time\n",
    "import re, pip, conda"
   ]
  },
  {
   "cell_type": "markdown",
   "id": "81ab201e-66cb-450c-8194-7d442cbafd0e",
   "metadata": {
    "tags": []
   },
   "source": [
    "# 二 贝叶斯优化的实现"
   ]
  },
  {
   "cell_type": "markdown",
   "id": "5d1f6b4c-17d4-45cf-8bcb-17778038fb26",
   "metadata": {},
   "source": [
    "贝叶斯优化是当今黑盒函数估计领域最为先进和经典的方法，在同一套序贯模型下使用不同的代理模型以及采集函数、还可以发展出更多更先进的贝叶斯优化改进版算法，因此，贝叶斯优化的其算法本身就多如繁星，实现各种不同种类的贝叶斯优化的库也是琳琅满目，几乎任意一个专业用于超参数优化的工具库都会包含贝叶斯优化的内容。我们可以在以下页面找到大量可以实现贝叶斯优化方法的HPO库：https://www.automl.org/automl/hpo-packages/ ，其中大部分库都是由独立团队开发和维护，因此不同的库之间之间的优劣、性格、功能都有很大的差异。在课程中，我们将介绍如下三个可以实现贝叶斯优化的库：`bayesian-optimization`，`hyperopt`，`optuna`。\n",
    "\n",
    "|HPO库|优劣评价|推荐指数|\n",
    "|-|-|-|\n",
    "|**bayes_opt**|✅实现基于高斯过程的贝叶斯优化<br>✅当参数空间由大量连续型参数构成时<br><br>⛔包含大量离散型参数时避免使用<br>⛔算力/时间稀缺时避免使用|⭐⭐|\n",
    "|**hyperopt**|✅实现基于TPE的贝叶斯优化<br>✅支持各类提效工具<br>✅进度条清晰，展示美观，较少怪异警告或报错<br>✅可推广/拓展至深度学习领域<br><br>⛔不支持基于高斯过程的贝叶斯优化<br>⛔代码限制多、较为复杂，灵活性较差|⭐⭐⭐⭐|\n",
    "|**optuna**|✅（可能需结合其他库）实现基于各类算法的贝叶斯优化<br>✅代码最简洁，同时具备一定的灵活性<br>✅可推广/拓展至深度学习领域<br><br>⛔非关键性功能维护不佳，有怪异警告与报错|⭐⭐⭐⭐|"
   ]
  },
  {
   "cell_type": "markdown",
   "id": "2020b18f-f1df-4b54-97eb-f3c7576e3c92",
   "metadata": {},
   "source": [
    "注意，以上三个库<font color=\"red\">**都不支持基于Python环境的并行或加速**</font>，大多数优化算法库只能够支持基于数据库（如MangoDB，mySQL）的并行或加速，但以上库都可以被部署在分布式计算平台。\n",
    "\n",
    "三个库极其辅助包的安装方法分别如下，使用pip或conda安装时注意关闭梯子。\n",
    "\n",
    "- Bayes_opt"
   ]
  },
  {
   "cell_type": "code",
   "execution_count": null,
   "id": "05a436f0-ac5a-4bf9-b51c-c83692a62fbb",
   "metadata": {},
   "outputs": [],
   "source": [
    "#!pip install bayesian-optimization\n",
    "#!conda install -c conda-forge bayesian-optimization"
   ]
  },
  {
   "cell_type": "markdown",
   "id": "bb484660-eb6b-4649-86b5-56e1400fefa3",
   "metadata": {},
   "source": [
    "- Hyperopt"
   ]
  },
  {
   "cell_type": "code",
   "execution_count": null,
   "id": "1df08313-85d8-40f7-8ef0-9dbf8226e525",
   "metadata": {},
   "outputs": [],
   "source": [
    "#!pip install hyperopt"
   ]
  },
  {
   "cell_type": "markdown",
   "id": "c1e301a3-821e-4268-a88a-b3d9a2a6785f",
   "metadata": {},
   "source": [
    "- Optuna"
   ]
  },
  {
   "cell_type": "code",
   "execution_count": null,
   "id": "4283c05d-066f-465e-9ec2-046558180ee5",
   "metadata": {},
   "outputs": [],
   "source": [
    "#!pip install optuna\n",
    "#!conda install -c conda-forge optuna"
   ]
  },
  {
   "cell_type": "markdown",
   "id": "fc863f94-10d9-4b87-9c9c-013fe8bd9dbf",
   "metadata": {},
   "source": [
    "- Skopt（作为Optuna辅助包安装，也可单独使用）"
   ]
  },
  {
   "cell_type": "code",
   "execution_count": null,
   "id": "f58f2c6c-fcc9-4d7a-bd7d-d6aad75f50ce",
   "metadata": {},
   "outputs": [],
   "source": [
    "#!pip install scikit-optimize"
   ]
  },
  {
   "cell_type": "markdown",
   "id": "451ac597-9195-4c3c-b719-a04e28ab93d4",
   "metadata": {},
   "source": [
    "接下来我们会分别使用三个库来实现贝叶斯优化。在课程中，我们依然使用集成算法中的房价数据作为验证数据，并且呈现出我们之前在不同优化方法上得出的结果作为对比。同时，我们将使用与集成算法中完全一致的随机数种子、以及随机森林算法作为被优化的评估器。\n",
    "\n",
    "- **导入库，确认使用数据**"
   ]
  },
  {
   "cell_type": "code",
   "execution_count": 4,
   "id": "f422db2f-d00c-4e55-a99b-4a0d51d16798",
   "metadata": {},
   "outputs": [],
   "source": [
    "#基本工具\n",
    "import numpy as np\n",
    "import pandas as pd\n",
    "import time\n",
    "import os #修改环境设置\n",
    "\n",
    "#算法/损失/评估指标等\n",
    "import sklearn\n",
    "from sklearn.ensemble import RandomForestRegressor as RFR\n",
    "from sklearn.model_selection import KFold, cross_validate\n",
    "\n",
    "#优化器\n",
    "from bayes_opt import BayesianOptimization\n",
    "\n",
    "import hyperopt\n",
    "from hyperopt import hp, fmin, tpe, Trials, partial\n",
    "from hyperopt.early_stop import no_progress_loss\n",
    "\n",
    "import optuna"
   ]
  },
  {
   "cell_type": "markdown",
   "id": "cb06475e-93c9-4d48-a393-ce77fa730644",
   "metadata": {},
   "source": [
    "Bayes_opt版本：1.2.0"
   ]
  },
  {
   "cell_type": "code",
   "execution_count": 5,
   "id": "45cb3295-a649-4b96-8d5c-51fbe69c332b",
   "metadata": {},
   "outputs": [
    {
     "name": "stdout",
     "output_type": "stream",
     "text": [
      "2.10.0\n"
     ]
    }
   ],
   "source": [
    "print(optuna.__version__)"
   ]
  },
  {
   "cell_type": "code",
   "execution_count": 6,
   "id": "21d93fa6-5451-4e6d-aae6-8a01c2f057d4",
   "metadata": {},
   "outputs": [
    {
     "name": "stdout",
     "output_type": "stream",
     "text": [
      "0.2.7\n"
     ]
    }
   ],
   "source": [
    "print(hyperopt.__version__)"
   ]
  },
  {
   "cell_type": "code",
   "execution_count": 7,
   "id": "d75d9f5e-dbcc-4d40-bd87-21c44ba8f0cd",
   "metadata": {},
   "outputs": [],
   "source": [
    "data = pd.read_csv(r\"D:\\myJupyter\\机器学习\\datasets\\House Price\\train_encode.csv\",index_col=0)\n",
    "\n",
    "X = data.iloc[:,:-1]\n",
    "y = data.iloc[:,-1]"
   ]
  },
  {
   "cell_type": "code",
   "execution_count": 8,
   "id": "f0c5c303-a97b-4821-b9ae-933fac9be335",
   "metadata": {},
   "outputs": [
    {
     "data": {
      "text/html": [
       "<div>\n",
       "<style scoped>\n",
       "    .dataframe tbody tr th:only-of-type {\n",
       "        vertical-align: middle;\n",
       "    }\n",
       "\n",
       "    .dataframe tbody tr th {\n",
       "        vertical-align: top;\n",
       "    }\n",
       "\n",
       "    .dataframe thead th {\n",
       "        text-align: right;\n",
       "    }\n",
       "</style>\n",
       "<table border=\"1\" class=\"dataframe\">\n",
       "  <thead>\n",
       "    <tr style=\"text-align: right;\">\n",
       "      <th></th>\n",
       "      <th>Id</th>\n",
       "      <th>住宅类型</th>\n",
       "      <th>住宅区域</th>\n",
       "      <th>街道接触面积(英尺)</th>\n",
       "      <th>住宅面积</th>\n",
       "      <th>街道路面状况</th>\n",
       "      <th>巷子路面状况</th>\n",
       "      <th>住宅形状(大概)</th>\n",
       "      <th>住宅现状</th>\n",
       "      <th>水电气</th>\n",
       "      <th>...</th>\n",
       "      <th>半开放式门廊面积</th>\n",
       "      <th>泳池面积</th>\n",
       "      <th>泳池质量</th>\n",
       "      <th>篱笆质量</th>\n",
       "      <th>其他配置</th>\n",
       "      <th>其他配置的价值</th>\n",
       "      <th>销售月份</th>\n",
       "      <th>销售年份</th>\n",
       "      <th>销售类型</th>\n",
       "      <th>销售状态</th>\n",
       "    </tr>\n",
       "  </thead>\n",
       "  <tbody>\n",
       "    <tr>\n",
       "      <th>0</th>\n",
       "      <td>0.0</td>\n",
       "      <td>5.0</td>\n",
       "      <td>3.0</td>\n",
       "      <td>36.0</td>\n",
       "      <td>327.0</td>\n",
       "      <td>1.0</td>\n",
       "      <td>0.0</td>\n",
       "      <td>3.0</td>\n",
       "      <td>3.0</td>\n",
       "      <td>0.0</td>\n",
       "      <td>...</td>\n",
       "      <td>0.0</td>\n",
       "      <td>0.0</td>\n",
       "      <td>0.0</td>\n",
       "      <td>0.0</td>\n",
       "      <td>0.0</td>\n",
       "      <td>0.0</td>\n",
       "      <td>1.0</td>\n",
       "      <td>2.0</td>\n",
       "      <td>8.0</td>\n",
       "      <td>4.0</td>\n",
       "    </tr>\n",
       "    <tr>\n",
       "      <th>1</th>\n",
       "      <td>1.0</td>\n",
       "      <td>0.0</td>\n",
       "      <td>3.0</td>\n",
       "      <td>51.0</td>\n",
       "      <td>498.0</td>\n",
       "      <td>1.0</td>\n",
       "      <td>0.0</td>\n",
       "      <td>3.0</td>\n",
       "      <td>3.0</td>\n",
       "      <td>0.0</td>\n",
       "      <td>...</td>\n",
       "      <td>0.0</td>\n",
       "      <td>0.0</td>\n",
       "      <td>0.0</td>\n",
       "      <td>0.0</td>\n",
       "      <td>0.0</td>\n",
       "      <td>0.0</td>\n",
       "      <td>4.0</td>\n",
       "      <td>1.0</td>\n",
       "      <td>8.0</td>\n",
       "      <td>4.0</td>\n",
       "    </tr>\n",
       "    <tr>\n",
       "      <th>2</th>\n",
       "      <td>2.0</td>\n",
       "      <td>5.0</td>\n",
       "      <td>3.0</td>\n",
       "      <td>39.0</td>\n",
       "      <td>702.0</td>\n",
       "      <td>1.0</td>\n",
       "      <td>0.0</td>\n",
       "      <td>0.0</td>\n",
       "      <td>3.0</td>\n",
       "      <td>0.0</td>\n",
       "      <td>...</td>\n",
       "      <td>0.0</td>\n",
       "      <td>0.0</td>\n",
       "      <td>0.0</td>\n",
       "      <td>0.0</td>\n",
       "      <td>0.0</td>\n",
       "      <td>0.0</td>\n",
       "      <td>8.0</td>\n",
       "      <td>2.0</td>\n",
       "      <td>8.0</td>\n",
       "      <td>4.0</td>\n",
       "    </tr>\n",
       "    <tr>\n",
       "      <th>3</th>\n",
       "      <td>3.0</td>\n",
       "      <td>6.0</td>\n",
       "      <td>3.0</td>\n",
       "      <td>31.0</td>\n",
       "      <td>489.0</td>\n",
       "      <td>1.0</td>\n",
       "      <td>0.0</td>\n",
       "      <td>0.0</td>\n",
       "      <td>3.0</td>\n",
       "      <td>0.0</td>\n",
       "      <td>...</td>\n",
       "      <td>0.0</td>\n",
       "      <td>0.0</td>\n",
       "      <td>0.0</td>\n",
       "      <td>0.0</td>\n",
       "      <td>0.0</td>\n",
       "      <td>0.0</td>\n",
       "      <td>1.0</td>\n",
       "      <td>0.0</td>\n",
       "      <td>8.0</td>\n",
       "      <td>0.0</td>\n",
       "    </tr>\n",
       "    <tr>\n",
       "      <th>4</th>\n",
       "      <td>4.0</td>\n",
       "      <td>5.0</td>\n",
       "      <td>3.0</td>\n",
       "      <td>55.0</td>\n",
       "      <td>925.0</td>\n",
       "      <td>1.0</td>\n",
       "      <td>0.0</td>\n",
       "      <td>0.0</td>\n",
       "      <td>3.0</td>\n",
       "      <td>0.0</td>\n",
       "      <td>...</td>\n",
       "      <td>0.0</td>\n",
       "      <td>0.0</td>\n",
       "      <td>0.0</td>\n",
       "      <td>0.0</td>\n",
       "      <td>0.0</td>\n",
       "      <td>0.0</td>\n",
       "      <td>11.0</td>\n",
       "      <td>2.0</td>\n",
       "      <td>8.0</td>\n",
       "      <td>4.0</td>\n",
       "    </tr>\n",
       "  </tbody>\n",
       "</table>\n",
       "<p>5 rows × 80 columns</p>\n",
       "</div>"
      ],
      "text/plain": [
       "    Id  住宅类型  住宅区域  街道接触面积(英尺)   住宅面积  街道路面状况  巷子路面状况  住宅形状(大概)  住宅现状  水电气  \\\n",
       "0  0.0   5.0   3.0        36.0  327.0     1.0     0.0       3.0   3.0  0.0   \n",
       "1  1.0   0.0   3.0        51.0  498.0     1.0     0.0       3.0   3.0  0.0   \n",
       "2  2.0   5.0   3.0        39.0  702.0     1.0     0.0       0.0   3.0  0.0   \n",
       "3  3.0   6.0   3.0        31.0  489.0     1.0     0.0       0.0   3.0  0.0   \n",
       "4  4.0   5.0   3.0        55.0  925.0     1.0     0.0       0.0   3.0  0.0   \n",
       "\n",
       "   ...  半开放式门廊面积  泳池面积  泳池质量  篱笆质量  其他配置  其他配置的价值  销售月份  销售年份  销售类型  销售状态  \n",
       "0  ...       0.0   0.0   0.0   0.0   0.0      0.0   1.0   2.0   8.0   4.0  \n",
       "1  ...       0.0   0.0   0.0   0.0   0.0      0.0   4.0   1.0   8.0   4.0  \n",
       "2  ...       0.0   0.0   0.0   0.0   0.0      0.0   8.0   2.0   8.0   4.0  \n",
       "3  ...       0.0   0.0   0.0   0.0   0.0      0.0   1.0   0.0   8.0   0.0  \n",
       "4  ...       0.0   0.0   0.0   0.0   0.0      0.0  11.0   2.0   8.0   4.0  \n",
       "\n",
       "[5 rows x 80 columns]"
      ]
     },
     "execution_count": 8,
     "metadata": {},
     "output_type": "execute_result"
    }
   ],
   "source": [
    "X.head()"
   ]
  },
  {
   "cell_type": "code",
   "execution_count": 9,
   "id": "1f811913-7675-4896-9b4d-dd9343bab99f",
   "metadata": {},
   "outputs": [
    {
     "data": {
      "text/plain": [
       "(1460, 80)"
      ]
     },
     "execution_count": 9,
     "metadata": {},
     "output_type": "execute_result"
    }
   ],
   "source": [
    "X.shape"
   ]
  },
  {
   "cell_type": "markdown",
   "id": "816d8b14-28a9-41e5-88d1-a2db67e0ccf1",
   "metadata": {},
   "source": [
    "- **确认该数据集上的历史成果**"
   ]
  },
  {
   "cell_type": "markdown",
   "id": "cbb211e2-a68e-41ab-b8a1-e408f6c69c79",
   "metadata": {},
   "source": [
    "|HPO方法|默认参数|网格搜索|随机搜索|随机搜索<br>(大空间)|随机搜索<br>(连续型)|\n",
    "|:-:|:-:|:-:|:-:|:-:|:-:|\n",
    "|搜索空间/全域空间|-|1536/1536|800/1536|1536/3000|1536/无限|\n",
    "|运行时间（分钟）|-|6.36|<font color=\"green\">**2.83(↓)**</font>|<font color=\"green\">**3.86(↓)**</font>|3.92|\n",
    "|搜索最优（RMSE）|30571.266|29179.698|29251.284|<font color=\"green\">**29012.905(↓)**</font>|29148.381|\n",
    "|重建最优（RMSE）|-|28572.070|<font color=\"brown\">**28639.969(↑)**</font>|<font color=\"green\">**28346.673(↓)**</font>|28495.682|"
   ]
  },
  {
   "cell_type": "markdown",
   "id": "d0e60abf-3549-45e9-a821-e5b01a4cbe40",
   "metadata": {
    "tags": []
   },
   "source": [
    "## 2 基于HyperOpt实现TPE优化"
   ]
  },
  {
   "cell_type": "markdown",
   "id": "0cbbc10c-949c-4711-9b2d-f1caa7ebb03b",
   "metadata": {},
   "source": [
    "Hyperopt优化器是目前最为通用的贝叶斯优化器之一，Hyperopt中集成了包括随机搜索、模拟退火和TPE（Tree-structured Parzen Estimator Approach）等多种优化算法。相比于Bayes_opt，Hyperopt的是更先进、更现代、维护更好的优化器，也是我们最常用来实现TPE方法的优化器。在实际使用中，相比基于高斯过程的贝叶斯优化，基于高斯混合模型的TPE在大多数情况下以更高效率获得更优结果，该方法目前也被广泛应用于AutoML领域中。TPE算法原理可以参阅原论文[Multiobjective tree-structured parzen estimator for computationally expensive optimization problems](https://www.researchgate.net/publication/342537251_Multiobjective_tree-structured_parzen_estimator_for_computationally_expensive_optimization_problems)，在这里我们将重点介绍关于Hyperopt中使用TPE进行超参数搜索的过程。"
   ]
  },
  {
   "cell_type": "code",
   "execution_count": 2,
   "id": "d7d22253-afc7-44dc-a71b-5cd1ac0d488a",
   "metadata": {},
   "outputs": [],
   "source": [
    "import hyperopt\n",
    "from hyperopt import hp, fmin, tpe, Trials, partial\n",
    "from hyperopt.early_stop import no_progress_loss"
   ]
  },
  {
   "cell_type": "code",
   "execution_count": 3,
   "id": "5ecb1f46-6d61-49e7-bdda-0ff964d7c06d",
   "metadata": {},
   "outputs": [
    {
     "name": "stdout",
     "output_type": "stream",
     "text": [
      "0.2.7\n"
     ]
    }
   ],
   "source": [
    "print(hyperopt.__version__)"
   ]
  },
  {
   "cell_type": "markdown",
   "id": "057d933f-3227-43ef-8f99-2dfae34e1cf7",
   "metadata": {},
   "source": [
    "- 1 定义目标函数"
   ]
  },
  {
   "cell_type": "markdown",
   "id": "006baab0-72e9-431d-b88d-4bf4d171628e",
   "metadata": {},
   "source": [
    "在定义目标函数$f(x)$时，我们需要严格遵守需要使用的当下优化库的基本规则。与Bayes_opt一样，Hyperopt也有一些特定的规则会限制我们的定义方式，主要包括：\n",
    "\n",
    "> 1 **目标函数的输入必须是符合hyperopt规定的字典**，不能是类似于sklearn的参数空间字典、不能是参数本身，更不能是数据、算法等超参数以外的元素。因此在自定义目标函数时，我们需要让超参数空间字典作为目标函数的输入。<br><br>\n",
    "> 2 **Hyperopt只支持寻找$f(x)$的最小值，不支持寻找最大值**，因此当我们定义的目标函数是某种正面的评估指标时（如准确率，auc），我们需要对该评估指标取负。如果我们定义的目标函数是负损失，也需要对负损失取绝对值。当且仅当我们定义的目标函数是普通损失时，我们才不需要改变输出。"
   ]
  },
  {
   "cell_type": "code",
   "execution_count": 10,
   "id": "e91c0ce8-c63f-4549-9d6b-336be3553e61",
   "metadata": {},
   "outputs": [],
   "source": [
    "def hyperopt_objective(params):\n",
    "    \n",
    "    #定义评估器\n",
    "    #需要搜索的参数需要从输入的字典中索引出来\n",
    "    #不需要搜索的参数，可以是设置好的某个值\n",
    "    #在需要整数的参数前调整参数类型\n",
    "    reg = RFR(n_estimators = int(params[\"n_estimators\"])\n",
    "              ,max_depth = int(params[\"max_depth\"])\n",
    "              ,max_features = int(params[\"max_features\"])\n",
    "              ,min_impurity_decrease = params[\"min_impurity_decrease\"]\n",
    "              ,random_state=1412\n",
    "              ,verbose=False\n",
    "              ,n_jobs=-1)\n",
    "    \n",
    "    #交叉验证结果，输出负根均方误差（-RMSE）\n",
    "    cv = KFold(n_splits=5,shuffle=True,random_state=1412)\n",
    "    validation_loss = cross_validate(reg,X,y\n",
    "                                     ,scoring=\"neg_root_mean_squared_error\"\n",
    "                                     ,cv=cv\n",
    "                                     ,verbose=False\n",
    "                                     ,n_jobs=-1\n",
    "                                     ,error_score='raise'\n",
    "                                    )\n",
    "    \n",
    "    #最终输出结果，由于只能取最小值，所以必须对（-RMSE）求绝对值\n",
    "    #以求解最小RMSE所对应的参数组合\n",
    "    return np.mean(abs(validation_loss[\"test_score\"]))"
   ]
  },
  {
   "cell_type": "markdown",
   "id": "984ab68a-e892-46a6-8864-8279b502e203",
   "metadata": {},
   "source": [
    "- 2 定义参数空间"
   ]
  },
  {
   "cell_type": "markdown",
   "id": "54c72a35-6f15-42b6-ac1b-76530ede5a73",
   "metadata": {},
   "source": [
    "在任意超参数优化器中，优化器会将参数空格中的超参数组合作为备选组合，一组一组输入到算法中进行训练。在贝叶斯优化中，超参数组合会被输入我们定义好的目标函数$f(x)$中。\n",
    "\n",
    "在hyperopt中，我们使用特殊的字典形式来定义参数空间，其中键值对上的键可以任意设置，只要与目标函数中索引参数的键一致即可，键值对的值则是hyperopt独有的hp函数，包括了：\n",
    "\n",
    "> **hp.quniform(\"参数名称\", 下界, 上界, 步长)** - 适用于均匀分布的浮点数<br><br>\n",
    "> **hp.uniform(\"参数名称\",下界, 上界)** - 适用于随机分布的浮点数<br><br>\n",
    "> **hp.randint(\"参数名称\",上界)** - 适用于[0,上界)的整数，区间为前闭后开<br><br>\n",
    "> **hp.choice(\"参数名称\",[\"字符串1\",\"字符串2\",...])** - 适用于字符串类型，最优参数由索引表示<br><br>\n",
    "> **hp.choice(\"参数名称\",[\\*range(下界，上界，步长)])** - 适用于整数型，最优参数由索引表示<br><br>\n",
    "> **hp.choice(\"参数名称\",[整数1,整数2,整数3,...])** - 适用于整数型，最优参数由索引表示<br><br>\n",
    "> **hp.choice(\"参数名称\",[\"字符串1\",整数1,...])** - 适用于字符与整数混合，最优参数由索引表示\n",
    "\n",
    "在hyperopt的说明当中，并未明确参数取值范围空间的开闭，根据实验，如无特殊说明，hp中的参数空间定义方法应当都为前闭后开区间。我们依然使用在随机森林上获得最高分的随机搜索的参数空间："
   ]
  },
  {
   "cell_type": "code",
   "execution_count": 11,
   "id": "84330b00-5020-49d2-a89b-1fe327743374",
   "metadata": {},
   "outputs": [],
   "source": [
    "param_grid_simple = {'n_estimators': hp.quniform(\"n_estimators\",80,100,1)\n",
    "                     , 'max_depth': hp.quniform(\"max_depth\",10,25,1)\n",
    "                     , \"max_features\": hp.quniform(\"max_features\",10,20,1)\n",
    "                     , \"min_impurity_decrease\":hp.quniform(\"min_impurity_decrease\",0,5,1)\n",
    "                    }"
   ]
  },
  {
   "cell_type": "markdown",
   "id": "1aadb180-9925-4c45-8f2a-c62e86c3fd34",
   "metadata": {},
   "source": [
    "由于hp.choice最终会返回最优参数的索引，容易与数值型参数的具体值混淆，而hp.randint又只能够支持从0开始进行计数，因此我们常常会使用quniform获得均匀分布的浮点数来替代整数。对于需要取整数的参数值，如果采用quniform方式构筑参数空间，则需要在目标函数中使用int函数限定输入类型。例如，在范围[0,5]中取值时，可以取出[0.0, 1.0, 2.0, 3.0,...]这种均匀浮点数，在输入目标函数时，则必须确保参数值前存在int函数。当然，如果使用hp.choice则不会存在该问题。"
   ]
  },
  {
   "cell_type": "markdown",
   "id": "92c980d5-f5b4-43e7-b42b-f14b6a1a7ce7",
   "metadata": {},
   "source": [
    "由于不涉及到连续型变量，因此我们可以计算出当前参数空间的大小："
   ]
  },
  {
   "cell_type": "code",
   "execution_count": 12,
   "id": "d9527fb3-ccc9-4592-a15f-97428322028c",
   "metadata": {},
   "outputs": [
    {
     "data": {
      "text/plain": [
       "3000"
      ]
     },
     "execution_count": 12,
     "metadata": {},
     "output_type": "execute_result"
    }
   ],
   "source": [
    "len([*range(80,100,1)])*len([*range(10,25,1)])*len([*range(10,20,1)])*len([range(0,5,1)])"
   ]
  },
  {
   "cell_type": "markdown",
   "id": "0fb6c73a-da2b-4004-a67d-406c61891e96",
   "metadata": {},
   "source": [
    "  "
   ]
  },
  {
   "cell_type": "markdown",
   "id": "a3eda4e1-8433-4330-b4b7-8ccb7b2c4f39",
   "metadata": {},
   "source": [
    "- 3 定义优化目标函数的具体流程"
   ]
  },
  {
   "cell_type": "markdown",
   "id": "d7f7afd4-3f22-432a-b91e-b001b78934f1",
   "metadata": {},
   "source": [
    "有了目标函数和参数空间，接下来我们就可以进行优化了。在Hyperopt中，我们用于优化的基础功能叫做fmin，在fmin中，我们可以自定义使用的代理模型（参数`algo`），一般来说我们有`tpe.suggest`以及`rand.suggest`两种选项，前者指代TPE方法，后者指代随机网格搜索方法。我们还可以通过partial功能来修改算法涉及到的具体参数，包括模型具体使用了多少个初始观测值（参数`n_start_jobs`），以及在计算采集函数值时究竟考虑多少个样本（参数`n_EI_candidates`）。当然，我们也可以不填写这些参数，就使用默认的参数值。\n",
    "\n",
    "除此之外，Hyperopt当中还有两个值得注意的功能，一个记录整个迭代过程的`trials`，另一个是提前停止参数`early_stop_fn`。其中，`trials`直译为“实验”或“测试”，表示我们不断尝试的每一种参数组合，这个参数中我们一般输入从hyperopt库中导入的方法Trials()，当优化完成之后，我们可以从保存好的trials中查看损失、参数等各种中间信息；而提前停止参数`early_stop_fn`中我们一般输入从hyperopt库导入的方法no_progress_loss()，这个方法中可以输入具体的数字n，表示当损失连续n次没有下降时，让算法提前停止。由于贝叶斯方法的随机性较高，当样本量不足时需要多次迭代才能够找到最优解，因此一般no_progress_loss()中的数值不会设置得太高。在我们的课程中，由于数据量较少，我设置了一个较高的值来避免迭代停止太早。"
   ]
  },
  {
   "cell_type": "code",
   "execution_count": 13,
   "id": "04f5a94d-4631-41ac-91ef-a7581771aad0",
   "metadata": {},
   "outputs": [],
   "source": [
    "def param_hyperopt(max_evals=100):\n",
    "    \n",
    "    #保存迭代过程\n",
    "    trials = Trials()\n",
    "    \n",
    "    #设置提前停止\n",
    "    early_stop_fn = no_progress_loss(100)\n",
    "    \n",
    "    #定义代理模型\n",
    "    #algo = partial(tpe.suggest, n_startup_jobs=20, n_EI_candidates=50)#自定义代理模型,这里定为tpe,设置初始观测数量为20,采集函数的备选值是50,参数空间越大设的越大\n",
    "    params_best = fmin(hyperopt_objective #目标函数\n",
    "                       , space = param_grid_simple #参数空间\n",
    "                       , algo = tpe.suggest #代理模型你要哪个呢？,这里使用tpe默认值\n",
    "                       #, algo = algo\n",
    "                       , max_evals = max_evals #允许的迭代次数\n",
    "                       , verbose=True\n",
    "                       , trials = trials\n",
    "                       , early_stop_fn = early_stop_fn\n",
    "                      )\n",
    "    \n",
    "    #打印最优参数，fmin会自动打印最佳分数\n",
    "    print(\"\\n\",\"\\n\",\"best params: \", params_best,\n",
    "          \"\\n\")\n",
    "    return params_best, trials"
   ]
  },
  {
   "cell_type": "markdown",
   "id": "65e1ba27-293c-46f3-be9d-f020ff2b7e2a",
   "metadata": {},
   "source": [
    "  "
   ]
  },
  {
   "cell_type": "markdown",
   "id": "21d37b82-52f4-4bd9-be40-70d79c999853",
   "metadata": {},
   "source": [
    "- 4 定义验证函数（非必要）"
   ]
  },
  {
   "cell_type": "code",
   "execution_count": 14,
   "id": "abb7d8c9-1ef4-47b2-94de-2bb61d391554",
   "metadata": {},
   "outputs": [],
   "source": [
    "def hyperopt_validation(params):    \n",
    "    reg = RFR(n_estimators = int(params[\"n_estimators\"])\n",
    "              ,max_depth = int(params[\"max_depth\"])\n",
    "              ,max_features = int(params[\"max_features\"])\n",
    "              ,min_impurity_decrease = params[\"min_impurity_decrease\"]\n",
    "              ,random_state=1412\n",
    "              ,verbose=False\n",
    "              ,n_jobs=-1\n",
    "             )\n",
    "    cv = KFold(n_splits=5,shuffle=True,random_state=1412)\n",
    "    validation_loss = cross_validate(reg,X,y\n",
    "                                     ,scoring=\"neg_root_mean_squared_error\"\n",
    "                                     ,cv=cv\n",
    "                                     ,verbose=False\n",
    "                                     ,n_jobs=-1\n",
    "                                    )\n",
    "    return np.mean(abs(validation_loss[\"test_score\"]))"
   ]
  },
  {
   "cell_type": "markdown",
   "id": "85cfee3f-8d56-403a-9e03-09b3173810eb",
   "metadata": {},
   "source": [
    "   "
   ]
  },
  {
   "cell_type": "markdown",
   "id": "427a4f43-e979-4697-b7f6-6feadb82f681",
   "metadata": {},
   "source": [
    "- 5 执行实际优化流程"
   ]
  },
  {
   "cell_type": "code",
   "execution_count": 17,
   "id": "29f5425c-9a9a-4f25-9bb0-fc9d7b4a1d75",
   "metadata": {},
   "outputs": [
    {
     "name": "stdout",
     "output_type": "stream",
     "text": [
      "100%|█████████████████████████████████████████████████| 30/30 [00:06<00:00,  4.86trial/s, best loss: 28553.15406747252]\n",
      "\n",
      " \n",
      " best params:  {'max_depth': 23.0, 'max_features': 14.0, 'min_impurity_decrease': 1.0, 'n_estimators': 94.0} \n",
      "\n"
     ]
    }
   ],
   "source": [
    "params_best, trials = param_hyperopt(30) #1%的空间大小"
   ]
  },
  {
   "cell_type": "code",
   "execution_count": 64,
   "id": "06321ac6-6783-4e63-9161-0b9de3e9e2ea",
   "metadata": {},
   "outputs": [
    {
     "name": "stdout",
     "output_type": "stream",
     "text": [
      "100%|███████████████████████████████████████████████| 100/100 [00:21<00:00,  4.71trial/s, best loss: 28450.06487530331]\n",
      "\n",
      " \n",
      " best params:  {'max_depth': 22.0, 'max_features': 14.0, 'min_impurity_decrease': 0.0, 'n_estimators': 94.0} \n",
      "\n"
     ]
    }
   ],
   "source": [
    "params_best, trials = param_hyperopt(100) #3%的空间大小"
   ]
  },
  {
   "cell_type": "code",
   "execution_count": 50,
   "id": "51620547-45e4-4d5d-9a9a-8e97d0fbd714",
   "metadata": {},
   "outputs": [
    {
     "name": "stdout",
     "output_type": "stream",
     "text": [
      " 92%|██████████████████████████████████████████▍   | 277/300 [01:01<00:05,  4.52trial/s, best loss: 28346.672687223065]\n",
      "\n",
      " \n",
      " best params:  {'max_depth': 22.0, 'max_features': 14.0, 'min_impurity_decrease': 0.0, 'n_estimators': 89.0} \n",
      "\n"
     ]
    }
   ],
   "source": [
    "params_best, trials = param_hyperopt(300) #10%的空间大小"
   ]
  },
  {
   "cell_type": "code",
   "execution_count": 33,
   "id": "8f31596d-a1b4-4f98-8744-5a6291834e2c",
   "metadata": {},
   "outputs": [
    {
     "data": {
      "text/plain": [
       "28346.672687223065"
      ]
     },
     "execution_count": 33,
     "metadata": {},
     "output_type": "execute_result"
    }
   ],
   "source": [
    "hyperopt_validation(params_best)"
   ]
  },
  {
   "cell_type": "code",
   "execution_count": 18,
   "id": "558187fe-07c4-4b1f-bef8-5bdcf39c7a62",
   "metadata": {},
   "outputs": [
    {
     "data": {
      "text/plain": [
       "{'state': 2,\n",
       " 'tid': 0,\n",
       " 'spec': None,\n",
       " 'result': {'loss': 28766.452192638408, 'status': 'ok'},\n",
       " 'misc': {'tid': 0,\n",
       "  'cmd': ('domain_attachment', 'FMinIter_Domain'),\n",
       "  'workdir': None,\n",
       "  'idxs': {'max_depth': [0],\n",
       "   'max_features': [0],\n",
       "   'min_impurity_decrease': [0],\n",
       "   'n_estimators': [0]},\n",
       "  'vals': {'max_depth': [13.0],\n",
       "   'max_features': [18.0],\n",
       "   'min_impurity_decrease': [4.0],\n",
       "   'n_estimators': [80.0]}},\n",
       " 'exp_key': None,\n",
       " 'owner': None,\n",
       " 'version': 0,\n",
       " 'book_time': datetime.datetime(2021, 12, 24, 13, 33, 19, 633000),\n",
       " 'refresh_time': datetime.datetime(2021, 12, 24, 13, 33, 19, 840000)}"
      ]
     },
     "execution_count": 18,
     "metadata": {},
     "output_type": "execute_result"
    }
   ],
   "source": [
    "#打印所有搜索相关的记录\n",
    "trials.trials[0]"
   ]
  },
  {
   "cell_type": "code",
   "execution_count": 20,
   "id": "e28038e3-e547-4d83-8637-37d23bccddbe",
   "metadata": {},
   "outputs": [
    {
     "data": {
      "text/plain": [
       "[28766.452192638408,\n",
       " 29762.22885008687,\n",
       " 29233.57333898302,\n",
       " 29257.33343872428,\n",
       " 29180.63733732971,\n",
       " 29249.676793746046,\n",
       " 29309.41793204717,\n",
       " 28915.33638544984,\n",
       " 29122.269575607537,\n",
       " 29150.39720576636]"
      ]
     },
     "execution_count": 20,
     "metadata": {},
     "output_type": "execute_result"
    }
   ],
   "source": [
    "#打印全部搜索的目标函数值\n",
    "trials.losses()[:10]"
   ]
  },
  {
   "cell_type": "markdown",
   "id": "6e75fb1c-72cd-48c2-b506-75e56b3d41d2",
   "metadata": {},
   "source": [
    "|HPO方法|默认参数|网格搜索|随机搜索|随机搜索<br>(大空间)|随机搜索<br>(连续型)|贝叶斯优化<br>(基于GP)|贝叶斯优化<br>(基于TPE)|\n",
    "|:-:|:-:|:-:|:-:|:-:|:-:|:-:|:-:|\n",
    "|搜索空间/全域空间|-|1536/1536|800/1536|1536/3000|1536/无限|300/无限|277/3000|\n",
    "|运行时间（分钟）|-|6.36|<font color=\"green\">**2.83(↓)**</font>|<font color=\"green\">**3.86(↓)**</font>|3.92|<font color=\"green\">**2.11(↓)**</font>|<font color=\"green\">**1.00(↓)**</font>|\n",
    "|搜索最优（RMSE）|30571.266|29179.698|29251.284|<font color=\"green\">**29012.905(↓)**</font>|29148.381|<font color=\"green\">**28346.673(↓)**</font>|<font color=\"green\">**28346.673(-)**</font>|\n",
    "|重建最优（RMSE）|-|28572.070|<font color=\"brown\">**28639.969(↑)**</font>|<font color=\"green\">**28346.673(↓)**</font>|28495.682|<font color=\"green\">**28346.673(-)**</font>|<font color=\"green\">**28346.673(-)**</font>|"
   ]
  },
  {
   "cell_type": "markdown",
   "id": "f06da0ed-e706-4af4-846b-5a694c3544d4",
   "metadata": {},
   "source": [
    "由于具有提前停止功能，因此基于TPE的hyperopt优化可能在我们设置的迭代次数被达到之前就停止，也因此hyperopt迭代到实际最优值所需的迭代次数可能更少。同时，TPE方法相比于高斯过程计算会更加迅速，因此在运行277次迭代的情况下，hyperopt只需要1分钟时间，而运行300次迭代的bayes_opt却需要2.11分钟，可见，即便运行同样的迭代次数，hyperopt也是更有优势的，这或许是因为hyperopt的参数空间更加稀疏、在整数型参数搜索上更高效。\n",
    "\n",
    "不过HyperOpt的缺点也很明显，那就是代码精密度要求较高、灵活性较差，略微的改动就可能让代码疯狂报错难以跑通。同时，HyperOpt所支持的优化算法也不够多，如果我们专注地使用TPE方法，则掌握HyperOpt即可，如果我们希望拥有丰富的HPO手段，则可以更深入地接触Optuna库。"
   ]
  }
 ],
 "metadata": {
  "kernelspec": {
   "display_name": "Python 3 (ipykernel)",
   "language": "python",
   "name": "python3"
  },
  "language_info": {
   "codemirror_mode": {
    "name": "ipython",
    "version": 3
   },
   "file_extension": ".py",
   "mimetype": "text/x-python",
   "name": "python",
   "nbconvert_exporter": "python",
   "pygments_lexer": "ipython3",
   "version": "3.9.7"
  }
 },
 "nbformat": 4,
 "nbformat_minor": 5
}
